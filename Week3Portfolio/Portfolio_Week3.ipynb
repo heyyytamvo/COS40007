{
  "nbformat": 4,
  "nbformat_minor": 0,
  "metadata": {
    "colab": {
      "provenance": []
    },
    "kernelspec": {
      "name": "python3",
      "display_name": "Python 3"
    },
    "language_info": {
      "name": "python"
    }
  },
  "cells": [
    {
      "cell_type": "code",
      "execution_count": null,
      "metadata": {
        "id": "-r4msIajfxx9"
      },
      "outputs": [],
      "source": []
    },
    {
      "cell_type": "markdown",
      "source": [
        "# Import Dependencies"
      ],
      "metadata": {
        "id": "5LJ3Ijdef4aB"
      }
    },
    {
      "cell_type": "code",
      "source": [
        "import pandas as pd\n",
        "import numpy as np\n",
        "import sklearn"
      ],
      "metadata": {
        "id": "m1zpRVhFf70l"
      },
      "execution_count": 2,
      "outputs": []
    },
    {
      "cell_type": "markdown",
      "source": [
        "# Read Dataframe"
      ],
      "metadata": {
        "id": "xR6y9ubEgDVQ"
      }
    },
    {
      "cell_type": "code",
      "source": [
        "boning_df = pd.read_csv('Boning.csv')\n",
        "slicing_df = pd.read_csv('Slicing.csv')"
      ],
      "metadata": {
        "id": "javIWKObghJg"
      },
      "execution_count": 5,
      "outputs": []
    },
    {
      "cell_type": "code",
      "source": [
        "boning_df.info()"
      ],
      "metadata": {
        "colab": {
          "base_uri": "https://localhost:8080/"
        },
        "collapsed": true,
        "id": "nepyKxnOgtVs",
        "outputId": "edae6e7d-2b43-4e72-f076-a8865bcbb620"
      },
      "execution_count": 7,
      "outputs": [
        {
          "output_type": "stream",
          "name": "stdout",
          "text": [
            "<class 'pandas.core.frame.DataFrame'>\n",
            "RangeIndex: 54180 entries, 0 to 54179\n",
            "Data columns (total 67 columns):\n",
            " #   Column             Non-Null Count  Dtype  \n",
            "---  ------             --------------  -----  \n",
            " 0   Frame              54180 non-null  int64  \n",
            " 1   L5 x               54180 non-null  float64\n",
            " 2   L5 y               54180 non-null  float64\n",
            " 3   L5 z               54180 non-null  float64\n",
            " 4   L3 x               54180 non-null  float64\n",
            " 5   L3 y               54180 non-null  float64\n",
            " 6   L3 z               54180 non-null  float64\n",
            " 7   T12 x              54180 non-null  float64\n",
            " 8   T12 y              54180 non-null  float64\n",
            " 9   T12 z              54180 non-null  float64\n",
            " 10  T8 x               54180 non-null  float64\n",
            " 11  T8 y               54180 non-null  float64\n",
            " 12  T8 z               54180 non-null  float64\n",
            " 13  Neck x             54180 non-null  float64\n",
            " 14  Neck y             54180 non-null  float64\n",
            " 15  Neck z             54180 non-null  float64\n",
            " 16  Head x             54180 non-null  float64\n",
            " 17  Head y             54180 non-null  float64\n",
            " 18  Head z             54180 non-null  float64\n",
            " 19  Right Shoulder x   54180 non-null  float64\n",
            " 20  Right Shoulder y   54180 non-null  float64\n",
            " 21  Right Shoulder z   54180 non-null  float64\n",
            " 22  Right Upper Arm x  54180 non-null  float64\n",
            " 23  Right Upper Arm y  54180 non-null  float64\n",
            " 24  Right Upper Arm z  54180 non-null  float64\n",
            " 25  Right Forearm x    54180 non-null  float64\n",
            " 26  Right Forearm y    54180 non-null  float64\n",
            " 27  Right Forearm z    54180 non-null  float64\n",
            " 28  Right Hand x       54180 non-null  float64\n",
            " 29  Right Hand y       54180 non-null  float64\n",
            " 30  Right Hand z       54180 non-null  float64\n",
            " 31  Left Shoulder x    54180 non-null  float64\n",
            " 32  Left Shoulder y    54180 non-null  float64\n",
            " 33  Left Shoulder z    54180 non-null  float64\n",
            " 34  Left Upper Arm x   54180 non-null  float64\n",
            " 35  Left Upper Arm y   54180 non-null  float64\n",
            " 36  Left Upper Arm z   54180 non-null  float64\n",
            " 37  Left Forearm x     54180 non-null  float64\n",
            " 38  Left Forearm y     54180 non-null  float64\n",
            " 39  Left Forearm z     54180 non-null  float64\n",
            " 40  Left Hand x        54180 non-null  float64\n",
            " 41  Left Hand y        54180 non-null  float64\n",
            " 42  Left Hand z        54180 non-null  float64\n",
            " 43  Right Upper Leg x  54180 non-null  float64\n",
            " 44  Right Upper Leg y  54180 non-null  float64\n",
            " 45  Right Upper Leg z  54180 non-null  float64\n",
            " 46  Right Lower Leg x  54180 non-null  float64\n",
            " 47  Right Lower Leg y  54180 non-null  float64\n",
            " 48  Right Lower Leg z  54180 non-null  float64\n",
            " 49  Right Foot x       54180 non-null  float64\n",
            " 50  Right Foot y       54180 non-null  float64\n",
            " 51  Right Foot z       54180 non-null  float64\n",
            " 52  Right Toe x        54180 non-null  float64\n",
            " 53  Right Toe y        54180 non-null  float64\n",
            " 54  Right Toe z        54180 non-null  float64\n",
            " 55  Left Upper Leg x   54180 non-null  float64\n",
            " 56  Left Upper Leg y   54180 non-null  float64\n",
            " 57  Left Upper Leg z   54180 non-null  float64\n",
            " 58  Left Lower Leg x   54180 non-null  float64\n",
            " 59  Left Lower Leg y   54180 non-null  float64\n",
            " 60  Left Lower Leg z   54180 non-null  float64\n",
            " 61  Left Foot x        54180 non-null  float64\n",
            " 62  Left Foot y        54180 non-null  float64\n",
            " 63  Left Foot z        54180 non-null  float64\n",
            " 64  Left Toe x         54180 non-null  float64\n",
            " 65  Left Toe y         54180 non-null  float64\n",
            " 66  Left Toe z         54180 non-null  float64\n",
            "dtypes: float64(66), int64(1)\n",
            "memory usage: 27.7 MB\n"
          ]
        }
      ]
    },
    {
      "cell_type": "code",
      "source": [
        "slicing_df.info()"
      ],
      "metadata": {
        "colab": {
          "base_uri": "https://localhost:8080/"
        },
        "collapsed": true,
        "id": "E6eKm6VXg1XR",
        "outputId": "62076f90-d2e6-450f-eebd-be2d35d325a5"
      },
      "execution_count": 8,
      "outputs": [
        {
          "output_type": "stream",
          "name": "stdout",
          "text": [
            "<class 'pandas.core.frame.DataFrame'>\n",
            "RangeIndex: 17880 entries, 0 to 17879\n",
            "Data columns (total 67 columns):\n",
            " #   Column             Non-Null Count  Dtype  \n",
            "---  ------             --------------  -----  \n",
            " 0   Frame              17880 non-null  int64  \n",
            " 1   L5 x               17880 non-null  float64\n",
            " 2   L5 y               17880 non-null  float64\n",
            " 3   L5 z               17880 non-null  float64\n",
            " 4   L3 x               17880 non-null  float64\n",
            " 5   L3 y               17880 non-null  float64\n",
            " 6   L3 z               17880 non-null  float64\n",
            " 7   T12 x              17880 non-null  float64\n",
            " 8   T12 y              17880 non-null  float64\n",
            " 9   T12 z              17880 non-null  float64\n",
            " 10  T8 x               17880 non-null  float64\n",
            " 11  T8 y               17880 non-null  float64\n",
            " 12  T8 z               17880 non-null  float64\n",
            " 13  Neck x             17880 non-null  float64\n",
            " 14  Neck y             17880 non-null  float64\n",
            " 15  Neck z             17880 non-null  float64\n",
            " 16  Head x             17880 non-null  float64\n",
            " 17  Head y             17880 non-null  float64\n",
            " 18  Head z             17880 non-null  float64\n",
            " 19  Right Shoulder x   17880 non-null  float64\n",
            " 20  Right Shoulder y   17880 non-null  float64\n",
            " 21  Right Shoulder z   17880 non-null  float64\n",
            " 22  Right Upper Arm x  17880 non-null  float64\n",
            " 23  Right Upper Arm y  17880 non-null  float64\n",
            " 24  Right Upper Arm z  17880 non-null  float64\n",
            " 25  Right Forearm x    17880 non-null  float64\n",
            " 26  Right Forearm y    17880 non-null  float64\n",
            " 27  Right Forearm z    17880 non-null  float64\n",
            " 28  Right Hand x       17880 non-null  float64\n",
            " 29  Right Hand y       17880 non-null  float64\n",
            " 30  Right Hand z       17880 non-null  float64\n",
            " 31  Left Shoulder x    17880 non-null  float64\n",
            " 32  Left Shoulder y    17880 non-null  float64\n",
            " 33  Left Shoulder z    17880 non-null  float64\n",
            " 34  Left Upper Arm x   17880 non-null  float64\n",
            " 35  Left Upper Arm y   17880 non-null  float64\n",
            " 36  Left Upper Arm z   17880 non-null  float64\n",
            " 37  Left Forearm x     17880 non-null  float64\n",
            " 38  Left Forearm y     17880 non-null  float64\n",
            " 39  Left Forearm z     17880 non-null  float64\n",
            " 40  Left Hand x        17880 non-null  float64\n",
            " 41  Left Hand y        17880 non-null  float64\n",
            " 42  Left Hand z        17880 non-null  float64\n",
            " 43  Right Upper Leg x  17880 non-null  float64\n",
            " 44  Right Upper Leg y  17880 non-null  float64\n",
            " 45  Right Upper Leg z  17880 non-null  float64\n",
            " 46  Right Lower Leg x  17880 non-null  float64\n",
            " 47  Right Lower Leg y  17880 non-null  float64\n",
            " 48  Right Lower Leg z  17880 non-null  float64\n",
            " 49  Right Foot x       17880 non-null  float64\n",
            " 50  Right Foot y       17880 non-null  float64\n",
            " 51  Right Foot z       17880 non-null  float64\n",
            " 52  Right Toe x        17880 non-null  float64\n",
            " 53  Right Toe y        17880 non-null  float64\n",
            " 54  Right Toe z        17880 non-null  float64\n",
            " 55  Left Upper Leg x   17880 non-null  float64\n",
            " 56  Left Upper Leg y   17880 non-null  float64\n",
            " 57  Left Upper Leg z   17880 non-null  float64\n",
            " 58  Left Lower Leg x   17880 non-null  float64\n",
            " 59  Left Lower Leg y   17880 non-null  float64\n",
            " 60  Left Lower Leg z   17880 non-null  float64\n",
            " 61  Left Foot x        17880 non-null  float64\n",
            " 62  Left Foot y        17880 non-null  float64\n",
            " 63  Left Foot z        17880 non-null  float64\n",
            " 64  Left Toe x         17880 non-null  float64\n",
            " 65  Left Toe y         17880 non-null  float64\n",
            " 66  Left Toe z         17880 non-null  float64\n",
            "dtypes: float64(66), int64(1)\n",
            "memory usage: 9.1 MB\n"
          ]
        }
      ]
    },
    {
      "cell_type": "markdown",
      "source": [
        "# Data Processing"
      ],
      "metadata": {
        "id": "-VdwF04VhEKR"
      }
    },
    {
      "cell_type": "markdown",
      "source": [
        "## Get only necessary columns"
      ],
      "metadata": {
        "id": "d3h8wJnPhGSU"
      }
    },
    {
      "cell_type": "code",
      "source": [
        "necessary_columns = ['Frame',\n",
        "                     'Right Lower Leg x',\n",
        "                     'Right Lower Leg y',\n",
        "                     'Right Lower Leg z',\n",
        "                     'Left Lower Leg x',\n",
        "                     'Left Lower Leg y',\n",
        "                     'Left Lower Leg z']\n",
        "\n",
        "boning_df = boning_df[necessary_columns]\n",
        "slicing_df = slicing_df[necessary_columns]"
      ],
      "metadata": {
        "id": "hZHk52KWhCUk"
      },
      "execution_count": 9,
      "outputs": []
    },
    {
      "cell_type": "code",
      "source": [
        "boning_df.info()"
      ],
      "metadata": {
        "colab": {
          "base_uri": "https://localhost:8080/"
        },
        "collapsed": true,
        "id": "HKfqIfqSiPDW",
        "outputId": "b4a725ee-c02d-4b0c-862b-d95b12fa2405"
      },
      "execution_count": 12,
      "outputs": [
        {
          "output_type": "stream",
          "name": "stdout",
          "text": [
            "<class 'pandas.core.frame.DataFrame'>\n",
            "RangeIndex: 54180 entries, 0 to 54179\n",
            "Data columns (total 7 columns):\n",
            " #   Column             Non-Null Count  Dtype  \n",
            "---  ------             --------------  -----  \n",
            " 0   Frame              54180 non-null  int64  \n",
            " 1   Right Lower Leg x  54180 non-null  float64\n",
            " 2   Right Lower Leg y  54180 non-null  float64\n",
            " 3   Right Lower Leg z  54180 non-null  float64\n",
            " 4   Left Lower Leg x   54180 non-null  float64\n",
            " 5   Left Lower Leg y   54180 non-null  float64\n",
            " 6   Left Lower Leg z   54180 non-null  float64\n",
            "dtypes: float64(6), int64(1)\n",
            "memory usage: 2.9 MB\n"
          ]
        }
      ]
    },
    {
      "cell_type": "code",
      "source": [
        "slicing_df.info()"
      ],
      "metadata": {
        "colab": {
          "base_uri": "https://localhost:8080/"
        },
        "collapsed": true,
        "id": "5v4Ztrw_iS65",
        "outputId": "9ca5b76c-bc23-4f00-a82b-d11de69f2f71"
      },
      "execution_count": 11,
      "outputs": [
        {
          "output_type": "stream",
          "name": "stdout",
          "text": [
            "<class 'pandas.core.frame.DataFrame'>\n",
            "RangeIndex: 17880 entries, 0 to 17879\n",
            "Data columns (total 7 columns):\n",
            " #   Column             Non-Null Count  Dtype  \n",
            "---  ------             --------------  -----  \n",
            " 0   Frame              17880 non-null  int64  \n",
            " 1   Right Lower Leg x  17880 non-null  float64\n",
            " 2   Right Lower Leg y  17880 non-null  float64\n",
            " 3   Right Lower Leg z  17880 non-null  float64\n",
            " 4   Left Lower Leg x   17880 non-null  float64\n",
            " 5   Left Lower Leg y   17880 non-null  float64\n",
            " 6   Left Lower Leg z   17880 non-null  float64\n",
            "dtypes: float64(6), int64(1)\n",
            "memory usage: 977.9 KB\n"
          ]
        }
      ]
    },
    {
      "cell_type": "code",
      "source": [
        "boning_df['label'] = 0\n",
        "slicing_df['label'] = 1\n",
        "dataset_df = pd.concat([boning_df, slicing_df], ignore_index=True)"
      ],
      "metadata": {
        "id": "Sbbu6YQTivMX"
      },
      "execution_count": 13,
      "outputs": []
    },
    {
      "cell_type": "code",
      "source": [
        "dataset_df.info()"
      ],
      "metadata": {
        "colab": {
          "base_uri": "https://localhost:8080/"
        },
        "id": "tTQKHdZejFcj",
        "outputId": "83ec8166-b416-4bf8-a7ef-7587ac790c33"
      },
      "execution_count": 14,
      "outputs": [
        {
          "output_type": "stream",
          "name": "stdout",
          "text": [
            "<class 'pandas.core.frame.DataFrame'>\n",
            "RangeIndex: 72060 entries, 0 to 72059\n",
            "Data columns (total 8 columns):\n",
            " #   Column             Non-Null Count  Dtype  \n",
            "---  ------             --------------  -----  \n",
            " 0   Frame              72060 non-null  int64  \n",
            " 1   Right Lower Leg x  72060 non-null  float64\n",
            " 2   Right Lower Leg y  72060 non-null  float64\n",
            " 3   Right Lower Leg z  72060 non-null  float64\n",
            " 4   Left Lower Leg x   72060 non-null  float64\n",
            " 5   Left Lower Leg y   72060 non-null  float64\n",
            " 6   Left Lower Leg z   72060 non-null  float64\n",
            " 7   label              72060 non-null  int64  \n",
            "dtypes: float64(6), int64(2)\n",
            "memory usage: 4.4 MB\n"
          ]
        }
      ]
    },
    {
      "cell_type": "markdown",
      "source": [
        "## Composite Columns"
      ],
      "metadata": {
        "id": "BIxIQf-qjiKB"
      }
    },
    {
      "cell_type": "code",
      "source": [],
      "metadata": {
        "id": "kR2JcWNPjhir"
      },
      "execution_count": null,
      "outputs": []
    }
  ]
}