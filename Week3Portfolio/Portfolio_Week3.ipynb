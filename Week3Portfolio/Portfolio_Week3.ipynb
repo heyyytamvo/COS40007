{
  "cells": [
    {
      "cell_type": "markdown",
      "metadata": {
        "id": "5LJ3Ijdef4aB"
      },
      "source": [
        "# Import Dependencies"
      ]
    },
    {
      "cell_type": "code",
      "execution_count": 3,
      "metadata": {
        "id": "m1zpRVhFf70l"
      },
      "outputs": [],
      "source": [
        "import pandas as pd\n",
        "import numpy as np\n",
        "from sklearn import svm\n",
        "from sklearn.model_selection import train_test_split\n",
        "from scipy.signal import find_peaks\n",
        "from sklearn.model_selection import cross_val_score\n",
        "from sklearn.metrics import accuracy_score\n",
        "from sklearn.feature_selection import SelectKBest, f_regression\n",
        "from sklearn.model_selection import GridSearchCV\n",
        "from sklearn.decomposition import PCA\n",
        "from sklearn.linear_model import SGDClassifier\n",
        "from sklearn.ensemble import RandomForestClassifier\n",
        "from sklearn.neural_network import MLPClassifier"
      ]
    },
    {
      "cell_type": "markdown",
      "metadata": {
        "id": "xR6y9ubEgDVQ"
      },
      "source": [
        "# Read Dataframe"
      ]
    },
    {
      "cell_type": "code",
      "execution_count": 4,
      "metadata": {
        "id": "javIWKObghJg"
      },
      "outputs": [],
      "source": [
        "boning_df = pd.read_csv('Boning.csv')\n",
        "slicing_df = pd.read_csv('Slicing.csv')"
      ]
    },
    {
      "cell_type": "code",
      "execution_count": 5,
      "metadata": {
        "colab": {
          "base_uri": "https://localhost:8080/"
        },
        "collapsed": true,
        "id": "nepyKxnOgtVs",
        "outputId": "9c38ae05-cd62-40e4-dc2c-654036216525"
      },
      "outputs": [
        {
          "name": "stdout",
          "output_type": "stream",
          "text": [
            "<class 'pandas.core.frame.DataFrame'>\n",
            "RangeIndex: 54180 entries, 0 to 54179\n",
            "Data columns (total 67 columns):\n",
            " #   Column             Non-Null Count  Dtype  \n",
            "---  ------             --------------  -----  \n",
            " 0   Frame              54180 non-null  int64  \n",
            " 1   L5 x               54180 non-null  float64\n",
            " 2   L5 y               54180 non-null  float64\n",
            " 3   L5 z               54180 non-null  float64\n",
            " 4   L3 x               54180 non-null  float64\n",
            " 5   L3 y               54180 non-null  float64\n",
            " 6   L3 z               54180 non-null  float64\n",
            " 7   T12 x              54180 non-null  float64\n",
            " 8   T12 y              54180 non-null  float64\n",
            " 9   T12 z              54180 non-null  float64\n",
            " 10  T8 x               54180 non-null  float64\n",
            " 11  T8 y               54180 non-null  float64\n",
            " 12  T8 z               54180 non-null  float64\n",
            " 13  Neck x             54180 non-null  float64\n",
            " 14  Neck y             54180 non-null  float64\n",
            " 15  Neck z             54180 non-null  float64\n",
            " 16  Head x             54180 non-null  float64\n",
            " 17  Head y             54180 non-null  float64\n",
            " 18  Head z             54180 non-null  float64\n",
            " 19  Right Shoulder x   54180 non-null  float64\n",
            " 20  Right Shoulder y   54180 non-null  float64\n",
            " 21  Right Shoulder z   54180 non-null  float64\n",
            " 22  Right Upper Arm x  54180 non-null  float64\n",
            " 23  Right Upper Arm y  54180 non-null  float64\n",
            " 24  Right Upper Arm z  54180 non-null  float64\n",
            " 25  Right Forearm x    54180 non-null  float64\n",
            " 26  Right Forearm y    54180 non-null  float64\n",
            " 27  Right Forearm z    54180 non-null  float64\n",
            " 28  Right Hand x       54180 non-null  float64\n",
            " 29  Right Hand y       54180 non-null  float64\n",
            " 30  Right Hand z       54180 non-null  float64\n",
            " 31  Left Shoulder x    54180 non-null  float64\n",
            " 32  Left Shoulder y    54180 non-null  float64\n",
            " 33  Left Shoulder z    54180 non-null  float64\n",
            " 34  Left Upper Arm x   54180 non-null  float64\n",
            " 35  Left Upper Arm y   54180 non-null  float64\n",
            " 36  Left Upper Arm z   54180 non-null  float64\n",
            " 37  Left Forearm x     54180 non-null  float64\n",
            " 38  Left Forearm y     54180 non-null  float64\n",
            " 39  Left Forearm z     54180 non-null  float64\n",
            " 40  Left Hand x        54180 non-null  float64\n",
            " 41  Left Hand y        54180 non-null  float64\n",
            " 42  Left Hand z        54180 non-null  float64\n",
            " 43  Right Upper Leg x  54180 non-null  float64\n",
            " 44  Right Upper Leg y  54180 non-null  float64\n",
            " 45  Right Upper Leg z  54180 non-null  float64\n",
            " 46  Right Lower Leg x  54180 non-null  float64\n",
            " 47  Right Lower Leg y  54180 non-null  float64\n",
            " 48  Right Lower Leg z  54180 non-null  float64\n",
            " 49  Right Foot x       54180 non-null  float64\n",
            " 50  Right Foot y       54180 non-null  float64\n",
            " 51  Right Foot z       54180 non-null  float64\n",
            " 52  Right Toe x        54180 non-null  float64\n",
            " 53  Right Toe y        54180 non-null  float64\n",
            " 54  Right Toe z        54180 non-null  float64\n",
            " 55  Left Upper Leg x   54180 non-null  float64\n",
            " 56  Left Upper Leg y   54180 non-null  float64\n",
            " 57  Left Upper Leg z   54180 non-null  float64\n",
            " 58  Left Lower Leg x   54180 non-null  float64\n",
            " 59  Left Lower Leg y   54180 non-null  float64\n",
            " 60  Left Lower Leg z   54180 non-null  float64\n",
            " 61  Left Foot x        54180 non-null  float64\n",
            " 62  Left Foot y        54180 non-null  float64\n",
            " 63  Left Foot z        54180 non-null  float64\n",
            " 64  Left Toe x         54180 non-null  float64\n",
            " 65  Left Toe y         54180 non-null  float64\n",
            " 66  Left Toe z         54180 non-null  float64\n",
            "dtypes: float64(66), int64(1)\n",
            "memory usage: 27.7 MB\n"
          ]
        }
      ],
      "source": [
        "boning_df.info()"
      ]
    },
    {
      "cell_type": "code",
      "execution_count": 6,
      "metadata": {
        "colab": {
          "base_uri": "https://localhost:8080/"
        },
        "collapsed": true,
        "id": "E6eKm6VXg1XR",
        "outputId": "2f536a6a-4789-4846-b273-6aab86ce0eda"
      },
      "outputs": [
        {
          "name": "stdout",
          "output_type": "stream",
          "text": [
            "<class 'pandas.core.frame.DataFrame'>\n",
            "RangeIndex: 17880 entries, 0 to 17879\n",
            "Data columns (total 67 columns):\n",
            " #   Column             Non-Null Count  Dtype  \n",
            "---  ------             --------------  -----  \n",
            " 0   Frame              17880 non-null  int64  \n",
            " 1   L5 x               17880 non-null  float64\n",
            " 2   L5 y               17880 non-null  float64\n",
            " 3   L5 z               17880 non-null  float64\n",
            " 4   L3 x               17880 non-null  float64\n",
            " 5   L3 y               17880 non-null  float64\n",
            " 6   L3 z               17880 non-null  float64\n",
            " 7   T12 x              17880 non-null  float64\n",
            " 8   T12 y              17880 non-null  float64\n",
            " 9   T12 z              17880 non-null  float64\n",
            " 10  T8 x               17880 non-null  float64\n",
            " 11  T8 y               17880 non-null  float64\n",
            " 12  T8 z               17880 non-null  float64\n",
            " 13  Neck x             17880 non-null  float64\n",
            " 14  Neck y             17880 non-null  float64\n",
            " 15  Neck z             17880 non-null  float64\n",
            " 16  Head x             17880 non-null  float64\n",
            " 17  Head y             17880 non-null  float64\n",
            " 18  Head z             17880 non-null  float64\n",
            " 19  Right Shoulder x   17880 non-null  float64\n",
            " 20  Right Shoulder y   17880 non-null  float64\n",
            " 21  Right Shoulder z   17880 non-null  float64\n",
            " 22  Right Upper Arm x  17880 non-null  float64\n",
            " 23  Right Upper Arm y  17880 non-null  float64\n",
            " 24  Right Upper Arm z  17880 non-null  float64\n",
            " 25  Right Forearm x    17880 non-null  float64\n",
            " 26  Right Forearm y    17880 non-null  float64\n",
            " 27  Right Forearm z    17880 non-null  float64\n",
            " 28  Right Hand x       17880 non-null  float64\n",
            " 29  Right Hand y       17880 non-null  float64\n",
            " 30  Right Hand z       17880 non-null  float64\n",
            " 31  Left Shoulder x    17880 non-null  float64\n",
            " 32  Left Shoulder y    17880 non-null  float64\n",
            " 33  Left Shoulder z    17880 non-null  float64\n",
            " 34  Left Upper Arm x   17880 non-null  float64\n",
            " 35  Left Upper Arm y   17880 non-null  float64\n",
            " 36  Left Upper Arm z   17880 non-null  float64\n",
            " 37  Left Forearm x     17880 non-null  float64\n",
            " 38  Left Forearm y     17880 non-null  float64\n",
            " 39  Left Forearm z     17880 non-null  float64\n",
            " 40  Left Hand x        17880 non-null  float64\n",
            " 41  Left Hand y        17880 non-null  float64\n",
            " 42  Left Hand z        17880 non-null  float64\n",
            " 43  Right Upper Leg x  17880 non-null  float64\n",
            " 44  Right Upper Leg y  17880 non-null  float64\n",
            " 45  Right Upper Leg z  17880 non-null  float64\n",
            " 46  Right Lower Leg x  17880 non-null  float64\n",
            " 47  Right Lower Leg y  17880 non-null  float64\n",
            " 48  Right Lower Leg z  17880 non-null  float64\n",
            " 49  Right Foot x       17880 non-null  float64\n",
            " 50  Right Foot y       17880 non-null  float64\n",
            " 51  Right Foot z       17880 non-null  float64\n",
            " 52  Right Toe x        17880 non-null  float64\n",
            " 53  Right Toe y        17880 non-null  float64\n",
            " 54  Right Toe z        17880 non-null  float64\n",
            " 55  Left Upper Leg x   17880 non-null  float64\n",
            " 56  Left Upper Leg y   17880 non-null  float64\n",
            " 57  Left Upper Leg z   17880 non-null  float64\n",
            " 58  Left Lower Leg x   17880 non-null  float64\n",
            " 59  Left Lower Leg y   17880 non-null  float64\n",
            " 60  Left Lower Leg z   17880 non-null  float64\n",
            " 61  Left Foot x        17880 non-null  float64\n",
            " 62  Left Foot y        17880 non-null  float64\n",
            " 63  Left Foot z        17880 non-null  float64\n",
            " 64  Left Toe x         17880 non-null  float64\n",
            " 65  Left Toe y         17880 non-null  float64\n",
            " 66  Left Toe z         17880 non-null  float64\n",
            "dtypes: float64(66), int64(1)\n",
            "memory usage: 9.1 MB\n"
          ]
        }
      ],
      "source": [
        "slicing_df.info()"
      ]
    },
    {
      "cell_type": "markdown",
      "metadata": {
        "id": "-VdwF04VhEKR"
      },
      "source": [
        "## Step 1: Data Collection"
      ]
    },
    {
      "cell_type": "code",
      "execution_count": 7,
      "metadata": {
        "id": "hZHk52KWhCUk"
      },
      "outputs": [],
      "source": [
        "necessary_columns = ['Frame',\n",
        "                     'Right Lower Leg x',\n",
        "                     'Right Lower Leg y',\n",
        "                     'Right Lower Leg z',\n",
        "                     'Left Lower Leg x',\n",
        "                     'Left Lower Leg y',\n",
        "                     'Left Lower Leg z']\n",
        "\n",
        "boning_df = boning_df[necessary_columns]\n",
        "slicing_df = slicing_df[necessary_columns]"
      ]
    },
    {
      "cell_type": "code",
      "execution_count": 8,
      "metadata": {
        "colab": {
          "base_uri": "https://localhost:8080/"
        },
        "collapsed": true,
        "id": "HKfqIfqSiPDW",
        "outputId": "a381f181-ae3d-4f9e-97c7-9642f0b775c3"
      },
      "outputs": [
        {
          "name": "stdout",
          "output_type": "stream",
          "text": [
            "<class 'pandas.core.frame.DataFrame'>\n",
            "RangeIndex: 54180 entries, 0 to 54179\n",
            "Data columns (total 7 columns):\n",
            " #   Column             Non-Null Count  Dtype  \n",
            "---  ------             --------------  -----  \n",
            " 0   Frame              54180 non-null  int64  \n",
            " 1   Right Lower Leg x  54180 non-null  float64\n",
            " 2   Right Lower Leg y  54180 non-null  float64\n",
            " 3   Right Lower Leg z  54180 non-null  float64\n",
            " 4   Left Lower Leg x   54180 non-null  float64\n",
            " 5   Left Lower Leg y   54180 non-null  float64\n",
            " 6   Left Lower Leg z   54180 non-null  float64\n",
            "dtypes: float64(6), int64(1)\n",
            "memory usage: 2.9 MB\n"
          ]
        }
      ],
      "source": [
        "boning_df.info()"
      ]
    },
    {
      "cell_type": "code",
      "execution_count": 9,
      "metadata": {
        "colab": {
          "base_uri": "https://localhost:8080/"
        },
        "collapsed": true,
        "id": "5v4Ztrw_iS65",
        "outputId": "2cb3500a-9486-4014-b61f-1cd107bb54ab"
      },
      "outputs": [
        {
          "name": "stdout",
          "output_type": "stream",
          "text": [
            "<class 'pandas.core.frame.DataFrame'>\n",
            "RangeIndex: 17880 entries, 0 to 17879\n",
            "Data columns (total 7 columns):\n",
            " #   Column             Non-Null Count  Dtype  \n",
            "---  ------             --------------  -----  \n",
            " 0   Frame              17880 non-null  int64  \n",
            " 1   Right Lower Leg x  17880 non-null  float64\n",
            " 2   Right Lower Leg y  17880 non-null  float64\n",
            " 3   Right Lower Leg z  17880 non-null  float64\n",
            " 4   Left Lower Leg x   17880 non-null  float64\n",
            " 5   Left Lower Leg y   17880 non-null  float64\n",
            " 6   Left Lower Leg z   17880 non-null  float64\n",
            "dtypes: float64(6), int64(1)\n",
            "memory usage: 977.9 KB\n"
          ]
        }
      ],
      "source": [
        "slicing_df.info()"
      ]
    },
    {
      "cell_type": "code",
      "execution_count": 10,
      "metadata": {
        "id": "Sbbu6YQTivMX"
      },
      "outputs": [],
      "source": [
        "dataset_df = pd.concat([boning_df, slicing_df], ignore_index=True)"
      ]
    },
    {
      "cell_type": "code",
      "execution_count": 11,
      "metadata": {
        "colab": {
          "base_uri": "https://localhost:8080/"
        },
        "id": "tTQKHdZejFcj",
        "outputId": "2f5aa14b-d867-4ce0-a186-1c43bf374bb9"
      },
      "outputs": [
        {
          "name": "stdout",
          "output_type": "stream",
          "text": [
            "<class 'pandas.core.frame.DataFrame'>\n",
            "RangeIndex: 72060 entries, 0 to 72059\n",
            "Data columns (total 7 columns):\n",
            " #   Column             Non-Null Count  Dtype  \n",
            "---  ------             --------------  -----  \n",
            " 0   Frame              72060 non-null  int64  \n",
            " 1   Right Lower Leg x  72060 non-null  float64\n",
            " 2   Right Lower Leg y  72060 non-null  float64\n",
            " 3   Right Lower Leg z  72060 non-null  float64\n",
            " 4   Left Lower Leg x   72060 non-null  float64\n",
            " 5   Left Lower Leg y   72060 non-null  float64\n",
            " 6   Left Lower Leg z   72060 non-null  float64\n",
            "dtypes: float64(6), int64(1)\n",
            "memory usage: 3.8 MB\n"
          ]
        }
      ],
      "source": [
        "dataset_df.info()"
      ]
    },
    {
      "cell_type": "markdown",
      "metadata": {
        "id": "BIxIQf-qjiKB"
      },
      "source": [
        "## Step 2: Composite Columns"
      ]
    },
    {
      "cell_type": "markdown",
      "metadata": {
        "id": "7a_snDHkKeAy"
      },
      "source": [
        "### Computing for Set 1"
      ]
    },
    {
      "cell_type": "code",
      "execution_count": 12,
      "metadata": {
        "id": "kR2JcWNPjhir"
      },
      "outputs": [],
      "source": [
        "dataset_df['Set1_rms_x_y'] = ((dataset_df['Right Lower Leg x']**2 + dataset_df['Right Lower Leg y']**2) / 2)**0.5\n",
        "dataset_df['Set1_rms_y_z'] = ((dataset_df['Right Lower Leg y']**2 + dataset_df['Right Lower Leg z']**2) / 2)**0.5\n",
        "dataset_df['Set1_rms_z_x'] = ((dataset_df['Right Lower Leg x']**2 + dataset_df['Right Lower Leg z']**2) / 2)**0.5\n",
        "dataset_df['Set1_rms_x_y_z'] = ((dataset_df['Right Lower Leg x']**2 + dataset_df['Right Lower Leg y']**2 + dataset_df['Right Lower Leg z']**2) / 3)**0.5\n",
        "dataset_df['Set1_roll'] = np.roll(\n",
        "    180 * np.arctan2(dataset_df['Right Lower Leg y'],\n",
        "    np.sqrt(dataset_df['Right Lower Leg x']**2 + dataset_df['Right Lower Leg z']**2)) / np.pi, 1\n",
        ")\n",
        "dataset_df['Set1_pitch'] = 180 * np.arctan2(\n",
        "    dataset_df['Right Lower Leg x'],\n",
        "    np.sqrt(dataset_df['Right Lower Leg y']**2 + dataset_df['Right Lower Leg z']**2)\n",
        "    ) / np.pi"
      ]
    },
    {
      "cell_type": "code",
      "execution_count": 13,
      "metadata": {
        "colab": {
          "base_uri": "https://localhost:8080/"
        },
        "id": "l-6DhJIxKeAy",
        "outputId": "c529f20c-ba1d-41f0-9395-64d8c9bad5ac"
      },
      "outputs": [
        {
          "name": "stdout",
          "output_type": "stream",
          "text": [
            "<class 'pandas.core.frame.DataFrame'>\n",
            "RangeIndex: 72060 entries, 0 to 72059\n",
            "Data columns (total 13 columns):\n",
            " #   Column             Non-Null Count  Dtype  \n",
            "---  ------             --------------  -----  \n",
            " 0   Frame              72060 non-null  int64  \n",
            " 1   Right Lower Leg x  72060 non-null  float64\n",
            " 2   Right Lower Leg y  72060 non-null  float64\n",
            " 3   Right Lower Leg z  72060 non-null  float64\n",
            " 4   Left Lower Leg x   72060 non-null  float64\n",
            " 5   Left Lower Leg y   72060 non-null  float64\n",
            " 6   Left Lower Leg z   72060 non-null  float64\n",
            " 7   Set1_rms_x_y       72060 non-null  float64\n",
            " 8   Set1_rms_y_z       72060 non-null  float64\n",
            " 9   Set1_rms_z_x       72060 non-null  float64\n",
            " 10  Set1_rms_x_y_z     72060 non-null  float64\n",
            " 11  Set1_roll          72060 non-null  float64\n",
            " 12  Set1_pitch         72060 non-null  float64\n",
            "dtypes: float64(12), int64(1)\n",
            "memory usage: 7.1 MB\n"
          ]
        }
      ],
      "source": [
        "dataset_df.info()"
      ]
    },
    {
      "cell_type": "markdown",
      "metadata": {
        "id": "idNTYWhfKeAy"
      },
      "source": [
        "### Computing for Set 2"
      ]
    },
    {
      "cell_type": "code",
      "execution_count": 14,
      "metadata": {
        "id": "3f1lwFA5KeAy"
      },
      "outputs": [],
      "source": [
        "dataset_df['Set2_rms_x_y'] = ((dataset_df['Left Lower Leg x']**2 + dataset_df['Left Lower Leg y']**2) / 2)**0.5\n",
        "dataset_df['Set2_rms_y_z'] = ((dataset_df['Left Lower Leg y']**2 + dataset_df['Left Lower Leg z']**2) / 2)**0.5\n",
        "dataset_df['Set2_rms_z_x'] = ((dataset_df['Left Lower Leg x']**2 + dataset_df['Left Lower Leg z']**2) / 2)**0.5\n",
        "dataset_df['Set2_rms_x_y_z'] = ((dataset_df['Left Lower Leg x']**2 + dataset_df['Left Lower Leg y']**2 + dataset_df['Left Lower Leg z']**2) / 3)**0.5\n",
        "dataset_df['Set2_roll'] = np.roll(\n",
        "    180 * np.arctan2(dataset_df['Left Lower Leg y'],\n",
        "    np.sqrt(dataset_df['Left Lower Leg x']**2 + dataset_df['Left Lower Leg z']**2)) / np.pi, 1\n",
        ")\n",
        "dataset_df['Set2_pitch'] = 180 * np.arctan2(\n",
        "    dataset_df['Left Lower Leg x'],\n",
        "    np.sqrt(dataset_df['Left Lower Leg y']**2 + dataset_df['Left Lower Leg z']**2)\n",
        "    ) / np.pi"
      ]
    },
    {
      "cell_type": "code",
      "execution_count": 15,
      "metadata": {
        "colab": {
          "base_uri": "https://localhost:8080/"
        },
        "id": "2RCe8jDYKeAy",
        "outputId": "6b05338b-a683-4ecb-9f98-a83128dfdeba"
      },
      "outputs": [
        {
          "name": "stdout",
          "output_type": "stream",
          "text": [
            "<class 'pandas.core.frame.DataFrame'>\n",
            "RangeIndex: 72060 entries, 0 to 72059\n",
            "Data columns (total 19 columns):\n",
            " #   Column             Non-Null Count  Dtype  \n",
            "---  ------             --------------  -----  \n",
            " 0   Frame              72060 non-null  int64  \n",
            " 1   Right Lower Leg x  72060 non-null  float64\n",
            " 2   Right Lower Leg y  72060 non-null  float64\n",
            " 3   Right Lower Leg z  72060 non-null  float64\n",
            " 4   Left Lower Leg x   72060 non-null  float64\n",
            " 5   Left Lower Leg y   72060 non-null  float64\n",
            " 6   Left Lower Leg z   72060 non-null  float64\n",
            " 7   Set1_rms_x_y       72060 non-null  float64\n",
            " 8   Set1_rms_y_z       72060 non-null  float64\n",
            " 9   Set1_rms_z_x       72060 non-null  float64\n",
            " 10  Set1_rms_x_y_z     72060 non-null  float64\n",
            " 11  Set1_roll          72060 non-null  float64\n",
            " 12  Set1_pitch         72060 non-null  float64\n",
            " 13  Set2_rms_x_y       72060 non-null  float64\n",
            " 14  Set2_rms_y_z       72060 non-null  float64\n",
            " 15  Set2_rms_z_x       72060 non-null  float64\n",
            " 16  Set2_rms_x_y_z     72060 non-null  float64\n",
            " 17  Set2_roll          72060 non-null  float64\n",
            " 18  Set2_pitch         72060 non-null  float64\n",
            "dtypes: float64(18), int64(1)\n",
            "memory usage: 10.4 MB\n"
          ]
        }
      ],
      "source": [
        "dataset_df.info()"
      ]
    },
    {
      "cell_type": "code",
      "execution_count": 16,
      "metadata": {
        "colab": {
          "base_uri": "https://localhost:8080/"
        },
        "id": "re_K1gIPKeAz",
        "outputId": "d41151f9-91bd-4416-b38b-df4f260c07c9"
      },
      "outputs": [
        {
          "name": "stdout",
          "output_type": "stream",
          "text": [
            "<class 'pandas.core.frame.DataFrame'>\n",
            "RangeIndex: 72060 entries, 0 to 72059\n",
            "Data columns (total 20 columns):\n",
            " #   Column             Non-Null Count  Dtype  \n",
            "---  ------             --------------  -----  \n",
            " 0   Frame              72060 non-null  int64  \n",
            " 1   Right Lower Leg x  72060 non-null  float64\n",
            " 2   Right Lower Leg y  72060 non-null  float64\n",
            " 3   Right Lower Leg z  72060 non-null  float64\n",
            " 4   Left Lower Leg x   72060 non-null  float64\n",
            " 5   Left Lower Leg y   72060 non-null  float64\n",
            " 6   Left Lower Leg z   72060 non-null  float64\n",
            " 7   Set1_rms_x_y       72060 non-null  float64\n",
            " 8   Set1_rms_y_z       72060 non-null  float64\n",
            " 9   Set1_rms_z_x       72060 non-null  float64\n",
            " 10  Set1_rms_x_y_z     72060 non-null  float64\n",
            " 11  Set1_roll          72060 non-null  float64\n",
            " 12  Set1_pitch         72060 non-null  float64\n",
            " 13  Set2_rms_x_y       72060 non-null  float64\n",
            " 14  Set2_rms_y_z       72060 non-null  float64\n",
            " 15  Set2_rms_z_x       72060 non-null  float64\n",
            " 16  Set2_rms_x_y_z     72060 non-null  float64\n",
            " 17  Set2_roll          72060 non-null  float64\n",
            " 18  Set2_pitch         72060 non-null  float64\n",
            " 19  label              72060 non-null  int64  \n",
            "dtypes: float64(18), int64(2)\n",
            "memory usage: 11.0 MB\n"
          ]
        },
        {
          "name": "stderr",
          "output_type": "stream",
          "text": [
            "<ipython-input-16-23b0e3e42d4b>:1: SettingWithCopyWarning: \n",
            "A value is trying to be set on a copy of a slice from a DataFrame.\n",
            "Try using .loc[row_indexer,col_indexer] = value instead\n",
            "\n",
            "See the caveats in the documentation: https://pandas.pydata.org/pandas-docs/stable/user_guide/indexing.html#returning-a-view-versus-a-copy\n",
            "  boning_df['label'] = 0\n",
            "<ipython-input-16-23b0e3e42d4b>:2: SettingWithCopyWarning: \n",
            "A value is trying to be set on a copy of a slice from a DataFrame.\n",
            "Try using .loc[row_indexer,col_indexer] = value instead\n",
            "\n",
            "See the caveats in the documentation: https://pandas.pydata.org/pandas-docs/stable/user_guide/indexing.html#returning-a-view-versus-a-copy\n",
            "  slicing_df['label'] = 1\n"
          ]
        }
      ],
      "source": [
        "boning_df['label'] = 0\n",
        "slicing_df['label'] = 1\n",
        "labelDf = pd.concat([boning_df['label'], slicing_df['label']], ignore_index=True)\n",
        "dataset_df['label'] = labelDf\n",
        "dataset_df.info()"
      ]
    },
    {
      "cell_type": "markdown",
      "metadata": {
        "id": "PSA13y5FKeAz"
      },
      "source": [
        "## Step 3: Data pre-processing and Feature computation"
      ]
    },
    {
      "cell_type": "code",
      "execution_count": 17,
      "metadata": {
        "colab": {
          "base_uri": "https://localhost:8080/",
          "height": 261
        },
        "id": "TH1Q1hhaKeAz",
        "outputId": "535ab7b3-2506-4ec1-8c38-b58f64fe7c56"
      },
      "outputs": [
        {
          "data": {
            "application/vnd.google.colaboratory.intrinsic+json": {
              "summary": "{\n  \"name\": \"dataset_df\",\n  \"rows\": 72060,\n  \"fields\": [\n    {\n      \"column\": \"Frame\",\n      \"properties\": {\n        \"dtype\": \"number\",\n        \"std\": 15874,\n        \"min\": 0,\n        \"max\": 54179,\n        \"num_unique_values\": 54180,\n        \"samples\": [\n          49252,\n          36162,\n          49716\n        ],\n        \"semantic_type\": \"\",\n        \"description\": \"\"\n      }\n    },\n    {\n      \"column\": \"Right Lower Leg x\",\n      \"properties\": {\n        \"dtype\": \"number\",\n        \"std\": 1.347614337544857,\n        \"min\": -22.61018763,\n        \"max\": 22.97715796,\n        \"num_unique_values\": 72060,\n        \"samples\": [\n          -0.008568308,\n          0.090036736,\n          -0.828093147\n        ],\n        \"semantic_type\": \"\",\n        \"description\": \"\"\n      }\n    },\n    {\n      \"column\": \"Right Lower Leg y\",\n      \"properties\": {\n        \"dtype\": \"number\",\n        \"std\": 1.4945952085439749,\n        \"min\": -21.26029054,\n        \"max\": 23.96060521,\n        \"num_unique_values\": 72058,\n        \"samples\": [\n          0.114708112,\n          -0.516241026,\n          -0.508827475\n        ],\n        \"semantic_type\": \"\",\n        \"description\": \"\"\n      }\n    },\n    {\n      \"column\": \"Right Lower Leg z\",\n      \"properties\": {\n        \"dtype\": \"number\",\n        \"std\": 0.7481774438658897,\n        \"min\": -9.871495332,\n        \"max\": 10.64455608,\n        \"num_unique_values\": 72054,\n        \"samples\": [\n          0.197287021,\n          0.22770093,\n          -0.019236418\n        ],\n        \"semantic_type\": \"\",\n        \"description\": \"\"\n      }\n    },\n    {\n      \"column\": \"Left Lower Leg x\",\n      \"properties\": {\n        \"dtype\": \"number\",\n        \"std\": 1.3228588144664883,\n        \"min\": -24.16290983,\n        \"max\": 20.54698628,\n        \"num_unique_values\": 72057,\n        \"samples\": [\n          -0.563334949,\n          0.469160481,\n          0.196250522\n        ],\n        \"semantic_type\": \"\",\n        \"description\": \"\"\n      }\n    },\n    {\n      \"column\": \"Left Lower Leg y\",\n      \"properties\": {\n        \"dtype\": \"number\",\n        \"std\": 1.3699503483592175,\n        \"min\": -29.60622703,\n        \"max\": 19.93000067,\n        \"num_unique_values\": 72059,\n        \"samples\": [\n          -0.10868784,\n          0.213527283,\n          0.523836107\n        ],\n        \"semantic_type\": \"\",\n        \"description\": \"\"\n      }\n    },\n    {\n      \"column\": \"Left Lower Leg z\",\n      \"properties\": {\n        \"dtype\": \"number\",\n        \"std\": 0.7267607050576231,\n        \"min\": -21.34028729,\n        \"max\": 13.46884953,\n        \"num_unique_values\": 72059,\n        \"samples\": [\n          0.025993113,\n          0.008893885,\n          0.284631768\n        ],\n        \"semantic_type\": \"\",\n        \"description\": \"\"\n      }\n    },\n    {\n      \"column\": \"Set1_rms_x_y\",\n      \"properties\": {\n        \"dtype\": \"number\",\n        \"std\": 1.1320075139391668,\n        \"min\": 0.0006223402061915171,\n        \"max\": 19.661963669817464,\n        \"num_unique_values\": 72060,\n        \"samples\": [\n          0.9599684250234046,\n          0.08680542259093062,\n          0.7098582855791139\n        ],\n        \"semantic_type\": \"\",\n        \"description\": \"\"\n      }\n    },\n    {\n      \"column\": \"Set1_rms_y_z\",\n      \"properties\": {\n        \"dtype\": \"number\",\n        \"std\": 0.9698284926847486,\n        \"min\": 0.0010277795032722242,\n        \"max\": 17.006770622607316,\n        \"num_unique_values\": 72060,\n        \"samples\": [\n          0.962750040023165,\n          0.06657148988258503,\n          0.46367018092720375\n        ],\n        \"semantic_type\": \"\",\n        \"description\": \"\"\n      }\n    },\n    {\n      \"column\": \"Set1_rms_z_x\",\n      \"properties\": {\n        \"dtype\": \"number\",\n        \"std\": 0.8897654722521026,\n        \"min\": 0.00017012194486602837,\n        \"max\": 16.339568884616547,\n        \"num_unique_values\": 72060,\n        \"samples\": [\n          0.07363204753823277,\n          0.0707332715455094,\n          0.6299440540112359\n        ],\n        \"semantic_type\": \"\",\n        \"description\": \"\"\n      }\n    },\n    {\n      \"column\": \"Set1_rms_x_y_z\",\n      \"properties\": {\n        \"dtype\": \"number\",\n        \"std\": 0.9771776164184421,\n        \"min\": 0.0039016247480751745,\n        \"max\": 16.09902194438038,\n        \"num_unique_values\": 72060,\n        \"samples\": [\n          0.7860976815958677,\n          0.07521112586115598,\n          0.6098410540106592\n        ],\n        \"semantic_type\": \"\",\n        \"description\": \"\"\n      }\n    },\n    {\n      \"column\": \"Set1_roll\",\n      \"properties\": {\n        \"dtype\": \"number\",\n        \"std\": 47.157553048555094,\n        \"min\": -89.84294123952373,\n        \"max\": 89.93665688518404,\n        \"num_unique_values\": 72060,\n        \"samples\": [\n          28.00987720088283,\n          26.747804797956988,\n          -60.41726584070603\n        ],\n        \"semantic_type\": \"\",\n        \"description\": \"\"\n      }\n    },\n    {\n      \"column\": \"Set1_pitch\",\n      \"properties\": {\n        \"dtype\": \"number\",\n        \"std\": 44.5008472498034,\n        \"min\": -89.6810361073018,\n        \"max\": 89.79930716633406,\n        \"num_unique_values\": 72060,\n        \"samples\": [\n          -0.36056488215289484,\n          43.72180505019965,\n          -51.625926127102645\n        ],\n        \"semantic_type\": \"\",\n        \"description\": \"\"\n      }\n    },\n    {\n      \"column\": \"Set2_rms_x_y\",\n      \"properties\": {\n        \"dtype\": \"number\",\n        \"std\": 1.041096244218541,\n        \"min\": 0.0010986534959906602,\n        \"max\": 23.06562500459258,\n        \"num_unique_values\": 72060,\n        \"samples\": [\n          0.4322180757322628,\n          0.19019028975091967,\n          1.227828911814033\n        ],\n        \"semantic_type\": \"\",\n        \"description\": \"\"\n      }\n    },\n    {\n      \"column\": \"Set2_rms_y_z\",\n      \"properties\": {\n        \"dtype\": \"number\",\n        \"std\": 0.8652731725502067,\n        \"min\": 0.0008476398973104676,\n        \"max\": 23.745545349937196,\n        \"num_unique_values\": 72060,\n        \"samples\": [\n          0.46070601486677765,\n          0.05500559447110454,\n          1.2262885448369703\n        ],\n        \"semantic_type\": \"\",\n        \"description\": \"\"\n      }\n    },\n    {\n      \"column\": \"Set2_rms_z_x\",\n      \"properties\": {\n        \"dtype\": \"number\",\n        \"std\": 0.8737058857114776,\n        \"min\": 0.00043833393376568506,\n        \"max\": 20.947392520433702,\n        \"num_unique_values\": 72060,\n        \"samples\": [\n          0.22563630535483747,\n          0.1912908407222656,\n          0.06161509639519631\n        ],\n        \"semantic_type\": \"\",\n        \"description\": \"\"\n      }\n    },\n    {\n      \"column\": \"Set2_rms_x_y_z\",\n      \"properties\": {\n        \"dtype\": \"number\",\n        \"std\": 0.9052763257687736,\n        \"min\": 0.0019490014202068538,\n        \"max\": 20.938157215037794,\n        \"num_unique_values\": 72060,\n        \"samples\": [\n          0.3872872488727667,\n          0.15894458938352235,\n          1.002520798119852\n        ],\n        \"semantic_type\": \"\",\n        \"description\": \"\"\n      }\n    },\n    {\n      \"column\": \"Set2_roll\",\n      \"properties\": {\n        \"dtype\": \"number\",\n        \"std\": 48.19679256057867,\n        \"min\": -89.82968722600087,\n        \"max\": 89.84659256957232,\n        \"num_unique_values\": 72060,\n        \"samples\": [\n          -12.279969263261522,\n          30.514449770716336,\n          84.10441658781214\n        ],\n        \"semantic_type\": \"\",\n        \"description\": \"\"\n      }\n    },\n    {\n      \"column\": \"Set2_pitch\",\n      \"properties\": {\n        \"dtype\": \"number\",\n        \"std\": 43.78918739139293,\n        \"min\": -89.90894468118918,\n        \"max\": 89.52531011573727,\n        \"num_unique_values\": 72060,\n        \"samples\": [\n          13.764626781323877,\n          73.58676026786269,\n          2.873357172321451\n        ],\n        \"semantic_type\": \"\",\n        \"description\": \"\"\n      }\n    },\n    {\n      \"column\": \"label\",\n      \"properties\": {\n        \"dtype\": \"number\",\n        \"std\": 0,\n        \"min\": 0,\n        \"max\": 1,\n        \"num_unique_values\": 2,\n        \"samples\": [\n          1,\n          0\n        ],\n        \"semantic_type\": \"\",\n        \"description\": \"\"\n      }\n    }\n  ]\n}",
              "type": "dataframe",
              "variable_name": "dataset_df"
            },
            "text/html": [
              "\n",
              "  <div id=\"df-0e55486f-b235-4bb8-b422-b63417d30280\" class=\"colab-df-container\">\n",
              "    <div>\n",
              "<style scoped>\n",
              "    .dataframe tbody tr th:only-of-type {\n",
              "        vertical-align: middle;\n",
              "    }\n",
              "\n",
              "    .dataframe tbody tr th {\n",
              "        vertical-align: top;\n",
              "    }\n",
              "\n",
              "    .dataframe thead th {\n",
              "        text-align: right;\n",
              "    }\n",
              "</style>\n",
              "<table border=\"1\" class=\"dataframe\">\n",
              "  <thead>\n",
              "    <tr style=\"text-align: right;\">\n",
              "      <th></th>\n",
              "      <th>Frame</th>\n",
              "      <th>Right Lower Leg x</th>\n",
              "      <th>Right Lower Leg y</th>\n",
              "      <th>Right Lower Leg z</th>\n",
              "      <th>Left Lower Leg x</th>\n",
              "      <th>Left Lower Leg y</th>\n",
              "      <th>Left Lower Leg z</th>\n",
              "      <th>Set1_rms_x_y</th>\n",
              "      <th>Set1_rms_y_z</th>\n",
              "      <th>Set1_rms_z_x</th>\n",
              "      <th>Set1_rms_x_y_z</th>\n",
              "      <th>Set1_roll</th>\n",
              "      <th>Set1_pitch</th>\n",
              "      <th>Set2_rms_x_y</th>\n",
              "      <th>Set2_rms_y_z</th>\n",
              "      <th>Set2_rms_z_x</th>\n",
              "      <th>Set2_rms_x_y_z</th>\n",
              "      <th>Set2_roll</th>\n",
              "      <th>Set2_pitch</th>\n",
              "      <th>label</th>\n",
              "    </tr>\n",
              "  </thead>\n",
              "  <tbody>\n",
              "    <tr>\n",
              "      <th>0</th>\n",
              "      <td>0</td>\n",
              "      <td>0.219806</td>\n",
              "      <td>0.236238</td>\n",
              "      <td>0.032050</td>\n",
              "      <td>0.121231</td>\n",
              "      <td>-0.079631</td>\n",
              "      <td>0.020690</td>\n",
              "      <td>0.228170</td>\n",
              "      <td>0.168576</td>\n",
              "      <td>0.157070</td>\n",
              "      <td>0.187217</td>\n",
              "      <td>-5.331211</td>\n",
              "      <td>42.675967</td>\n",
              "      <td>0.102563</td>\n",
              "      <td>0.058177</td>\n",
              "      <td>0.086963</td>\n",
              "      <td>0.084590</td>\n",
              "      <td>-47.443073</td>\n",
              "      <td>55.836663</td>\n",
              "      <td>0</td>\n",
              "    </tr>\n",
              "    <tr>\n",
              "      <th>1</th>\n",
              "      <td>1</td>\n",
              "      <td>0.152939</td>\n",
              "      <td>0.516317</td>\n",
              "      <td>0.034023</td>\n",
              "      <td>0.094984</td>\n",
              "      <td>0.134901</td>\n",
              "      <td>0.073241</td>\n",
              "      <td>0.380771</td>\n",
              "      <td>0.365883</td>\n",
              "      <td>0.110788</td>\n",
              "      <td>0.311518</td>\n",
              "      <td>46.762893</td>\n",
              "      <td>16.466129</td>\n",
              "      <td>0.116662</td>\n",
              "      <td>0.108541</td>\n",
              "      <td>0.084812</td>\n",
              "      <td>0.104218</td>\n",
              "      <td>-32.922799</td>\n",
              "      <td>31.748534</td>\n",
              "      <td>0</td>\n",
              "    </tr>\n",
              "    <tr>\n",
              "      <th>2</th>\n",
              "      <td>2</td>\n",
              "      <td>0.009686</td>\n",
              "      <td>0.089548</td>\n",
              "      <td>-0.045127</td>\n",
              "      <td>0.028965</td>\n",
              "      <td>0.138562</td>\n",
              "      <td>0.047474</td>\n",
              "      <td>0.063689</td>\n",
              "      <td>0.070906</td>\n",
              "      <td>0.032636</td>\n",
              "      <td>0.058164</td>\n",
              "      <td>73.119439</td>\n",
              "      <td>5.516979</td>\n",
              "      <td>0.100096</td>\n",
              "      <td>0.103569</td>\n",
              "      <td>0.039324</td>\n",
              "      <td>0.086202</td>\n",
              "      <td>48.359265</td>\n",
              "      <td>11.186103</td>\n",
              "      <td>0</td>\n",
              "    </tr>\n",
              "    <tr>\n",
              "      <th>3</th>\n",
              "      <td>3</td>\n",
              "      <td>-0.052419</td>\n",
              "      <td>-0.036543</td>\n",
              "      <td>0.108497</td>\n",
              "      <td>-0.063305</td>\n",
              "      <td>0.215892</td>\n",
              "      <td>0.038873</td>\n",
              "      <td>0.045184</td>\n",
              "      <td>0.080954</td>\n",
              "      <td>0.085204</td>\n",
              "      <td>0.072698</td>\n",
              "      <td>62.732545</td>\n",
              "      <td>-24.601347</td>\n",
              "      <td>0.159086</td>\n",
              "      <td>0.155114</td>\n",
              "      <td>0.052529</td>\n",
              "      <td>0.131818</td>\n",
              "      <td>68.131727</td>\n",
              "      <td>-16.097374</td>\n",
              "      <td>0</td>\n",
              "    </tr>\n",
              "    <tr>\n",
              "      <th>4</th>\n",
              "      <td>4</td>\n",
              "      <td>0.065916</td>\n",
              "      <td>-0.276617</td>\n",
              "      <td>0.053206</td>\n",
              "      <td>0.077462</td>\n",
              "      <td>0.142185</td>\n",
              "      <td>0.044010</td>\n",
              "      <td>0.201075</td>\n",
              "      <td>0.199183</td>\n",
              "      <td>0.059899</td>\n",
              "      <td>0.167026</td>\n",
              "      <td>-16.871233</td>\n",
              "      <td>13.170542</td>\n",
              "      <td>0.114492</td>\n",
              "      <td>0.105246</td>\n",
              "      <td>0.062997</td>\n",
              "      <td>0.096874</td>\n",
              "      <td>71.011809</td>\n",
              "      <td>27.494177</td>\n",
              "      <td>0</td>\n",
              "    </tr>\n",
              "  </tbody>\n",
              "</table>\n",
              "</div>\n",
              "    <div class=\"colab-df-buttons\">\n",
              "\n",
              "  <div class=\"colab-df-container\">\n",
              "    <button class=\"colab-df-convert\" onclick=\"convertToInteractive('df-0e55486f-b235-4bb8-b422-b63417d30280')\"\n",
              "            title=\"Convert this dataframe to an interactive table.\"\n",
              "            style=\"display:none;\">\n",
              "\n",
              "  <svg xmlns=\"http://www.w3.org/2000/svg\" height=\"24px\" viewBox=\"0 -960 960 960\">\n",
              "    <path d=\"M120-120v-720h720v720H120Zm60-500h600v-160H180v160Zm220 220h160v-160H400v160Zm0 220h160v-160H400v160ZM180-400h160v-160H180v160Zm440 0h160v-160H620v160ZM180-180h160v-160H180v160Zm440 0h160v-160H620v160Z\"/>\n",
              "  </svg>\n",
              "    </button>\n",
              "\n",
              "  <style>\n",
              "    .colab-df-container {\n",
              "      display:flex;\n",
              "      gap: 12px;\n",
              "    }\n",
              "\n",
              "    .colab-df-convert {\n",
              "      background-color: #E8F0FE;\n",
              "      border: none;\n",
              "      border-radius: 50%;\n",
              "      cursor: pointer;\n",
              "      display: none;\n",
              "      fill: #1967D2;\n",
              "      height: 32px;\n",
              "      padding: 0 0 0 0;\n",
              "      width: 32px;\n",
              "    }\n",
              "\n",
              "    .colab-df-convert:hover {\n",
              "      background-color: #E2EBFA;\n",
              "      box-shadow: 0px 1px 2px rgba(60, 64, 67, 0.3), 0px 1px 3px 1px rgba(60, 64, 67, 0.15);\n",
              "      fill: #174EA6;\n",
              "    }\n",
              "\n",
              "    .colab-df-buttons div {\n",
              "      margin-bottom: 4px;\n",
              "    }\n",
              "\n",
              "    [theme=dark] .colab-df-convert {\n",
              "      background-color: #3B4455;\n",
              "      fill: #D2E3FC;\n",
              "    }\n",
              "\n",
              "    [theme=dark] .colab-df-convert:hover {\n",
              "      background-color: #434B5C;\n",
              "      box-shadow: 0px 1px 3px 1px rgba(0, 0, 0, 0.15);\n",
              "      filter: drop-shadow(0px 1px 2px rgba(0, 0, 0, 0.3));\n",
              "      fill: #FFFFFF;\n",
              "    }\n",
              "  </style>\n",
              "\n",
              "    <script>\n",
              "      const buttonEl =\n",
              "        document.querySelector('#df-0e55486f-b235-4bb8-b422-b63417d30280 button.colab-df-convert');\n",
              "      buttonEl.style.display =\n",
              "        google.colab.kernel.accessAllowed ? 'block' : 'none';\n",
              "\n",
              "      async function convertToInteractive(key) {\n",
              "        const element = document.querySelector('#df-0e55486f-b235-4bb8-b422-b63417d30280');\n",
              "        const dataTable =\n",
              "          await google.colab.kernel.invokeFunction('convertToInteractive',\n",
              "                                                    [key], {});\n",
              "        if (!dataTable) return;\n",
              "\n",
              "        const docLinkHtml = 'Like what you see? Visit the ' +\n",
              "          '<a target=\"_blank\" href=https://colab.research.google.com/notebooks/data_table.ipynb>data table notebook</a>'\n",
              "          + ' to learn more about interactive tables.';\n",
              "        element.innerHTML = '';\n",
              "        dataTable['output_type'] = 'display_data';\n",
              "        await google.colab.output.renderOutput(dataTable, element);\n",
              "        const docLink = document.createElement('div');\n",
              "        docLink.innerHTML = docLinkHtml;\n",
              "        element.appendChild(docLink);\n",
              "      }\n",
              "    </script>\n",
              "  </div>\n",
              "\n",
              "\n",
              "<div id=\"df-97985958-f783-494f-b1dd-a926781a6151\">\n",
              "  <button class=\"colab-df-quickchart\" onclick=\"quickchart('df-97985958-f783-494f-b1dd-a926781a6151')\"\n",
              "            title=\"Suggest charts\"\n",
              "            style=\"display:none;\">\n",
              "\n",
              "<svg xmlns=\"http://www.w3.org/2000/svg\" height=\"24px\"viewBox=\"0 0 24 24\"\n",
              "     width=\"24px\">\n",
              "    <g>\n",
              "        <path d=\"M19 3H5c-1.1 0-2 .9-2 2v14c0 1.1.9 2 2 2h14c1.1 0 2-.9 2-2V5c0-1.1-.9-2-2-2zM9 17H7v-7h2v7zm4 0h-2V7h2v10zm4 0h-2v-4h2v4z\"/>\n",
              "    </g>\n",
              "</svg>\n",
              "  </button>\n",
              "\n",
              "<style>\n",
              "  .colab-df-quickchart {\n",
              "      --bg-color: #E8F0FE;\n",
              "      --fill-color: #1967D2;\n",
              "      --hover-bg-color: #E2EBFA;\n",
              "      --hover-fill-color: #174EA6;\n",
              "      --disabled-fill-color: #AAA;\n",
              "      --disabled-bg-color: #DDD;\n",
              "  }\n",
              "\n",
              "  [theme=dark] .colab-df-quickchart {\n",
              "      --bg-color: #3B4455;\n",
              "      --fill-color: #D2E3FC;\n",
              "      --hover-bg-color: #434B5C;\n",
              "      --hover-fill-color: #FFFFFF;\n",
              "      --disabled-bg-color: #3B4455;\n",
              "      --disabled-fill-color: #666;\n",
              "  }\n",
              "\n",
              "  .colab-df-quickchart {\n",
              "    background-color: var(--bg-color);\n",
              "    border: none;\n",
              "    border-radius: 50%;\n",
              "    cursor: pointer;\n",
              "    display: none;\n",
              "    fill: var(--fill-color);\n",
              "    height: 32px;\n",
              "    padding: 0;\n",
              "    width: 32px;\n",
              "  }\n",
              "\n",
              "  .colab-df-quickchart:hover {\n",
              "    background-color: var(--hover-bg-color);\n",
              "    box-shadow: 0 1px 2px rgba(60, 64, 67, 0.3), 0 1px 3px 1px rgba(60, 64, 67, 0.15);\n",
              "    fill: var(--button-hover-fill-color);\n",
              "  }\n",
              "\n",
              "  .colab-df-quickchart-complete:disabled,\n",
              "  .colab-df-quickchart-complete:disabled:hover {\n",
              "    background-color: var(--disabled-bg-color);\n",
              "    fill: var(--disabled-fill-color);\n",
              "    box-shadow: none;\n",
              "  }\n",
              "\n",
              "  .colab-df-spinner {\n",
              "    border: 2px solid var(--fill-color);\n",
              "    border-color: transparent;\n",
              "    border-bottom-color: var(--fill-color);\n",
              "    animation:\n",
              "      spin 1s steps(1) infinite;\n",
              "  }\n",
              "\n",
              "  @keyframes spin {\n",
              "    0% {\n",
              "      border-color: transparent;\n",
              "      border-bottom-color: var(--fill-color);\n",
              "      border-left-color: var(--fill-color);\n",
              "    }\n",
              "    20% {\n",
              "      border-color: transparent;\n",
              "      border-left-color: var(--fill-color);\n",
              "      border-top-color: var(--fill-color);\n",
              "    }\n",
              "    30% {\n",
              "      border-color: transparent;\n",
              "      border-left-color: var(--fill-color);\n",
              "      border-top-color: var(--fill-color);\n",
              "      border-right-color: var(--fill-color);\n",
              "    }\n",
              "    40% {\n",
              "      border-color: transparent;\n",
              "      border-right-color: var(--fill-color);\n",
              "      border-top-color: var(--fill-color);\n",
              "    }\n",
              "    60% {\n",
              "      border-color: transparent;\n",
              "      border-right-color: var(--fill-color);\n",
              "    }\n",
              "    80% {\n",
              "      border-color: transparent;\n",
              "      border-right-color: var(--fill-color);\n",
              "      border-bottom-color: var(--fill-color);\n",
              "    }\n",
              "    90% {\n",
              "      border-color: transparent;\n",
              "      border-bottom-color: var(--fill-color);\n",
              "    }\n",
              "  }\n",
              "</style>\n",
              "\n",
              "  <script>\n",
              "    async function quickchart(key) {\n",
              "      const quickchartButtonEl =\n",
              "        document.querySelector('#' + key + ' button');\n",
              "      quickchartButtonEl.disabled = true;  // To prevent multiple clicks.\n",
              "      quickchartButtonEl.classList.add('colab-df-spinner');\n",
              "      try {\n",
              "        const charts = await google.colab.kernel.invokeFunction(\n",
              "            'suggestCharts', [key], {});\n",
              "      } catch (error) {\n",
              "        console.error('Error during call to suggestCharts:', error);\n",
              "      }\n",
              "      quickchartButtonEl.classList.remove('colab-df-spinner');\n",
              "      quickchartButtonEl.classList.add('colab-df-quickchart-complete');\n",
              "    }\n",
              "    (() => {\n",
              "      let quickchartButtonEl =\n",
              "        document.querySelector('#df-97985958-f783-494f-b1dd-a926781a6151 button');\n",
              "      quickchartButtonEl.style.display =\n",
              "        google.colab.kernel.accessAllowed ? 'block' : 'none';\n",
              "    })();\n",
              "  </script>\n",
              "</div>\n",
              "\n",
              "    </div>\n",
              "  </div>\n"
            ],
            "text/plain": [
              "   Frame  Right Lower Leg x  Right Lower Leg y  Right Lower Leg z  \\\n",
              "0      0           0.219806           0.236238           0.032050   \n",
              "1      1           0.152939           0.516317           0.034023   \n",
              "2      2           0.009686           0.089548          -0.045127   \n",
              "3      3          -0.052419          -0.036543           0.108497   \n",
              "4      4           0.065916          -0.276617           0.053206   \n",
              "\n",
              "   Left Lower Leg x  Left Lower Leg y  Left Lower Leg z  Set1_rms_x_y  \\\n",
              "0          0.121231         -0.079631          0.020690      0.228170   \n",
              "1          0.094984          0.134901          0.073241      0.380771   \n",
              "2          0.028965          0.138562          0.047474      0.063689   \n",
              "3         -0.063305          0.215892          0.038873      0.045184   \n",
              "4          0.077462          0.142185          0.044010      0.201075   \n",
              "\n",
              "   Set1_rms_y_z  Set1_rms_z_x  Set1_rms_x_y_z  Set1_roll  Set1_pitch  \\\n",
              "0      0.168576      0.157070        0.187217  -5.331211   42.675967   \n",
              "1      0.365883      0.110788        0.311518  46.762893   16.466129   \n",
              "2      0.070906      0.032636        0.058164  73.119439    5.516979   \n",
              "3      0.080954      0.085204        0.072698  62.732545  -24.601347   \n",
              "4      0.199183      0.059899        0.167026 -16.871233   13.170542   \n",
              "\n",
              "   Set2_rms_x_y  Set2_rms_y_z  Set2_rms_z_x  Set2_rms_x_y_z  Set2_roll  \\\n",
              "0      0.102563      0.058177      0.086963        0.084590 -47.443073   \n",
              "1      0.116662      0.108541      0.084812        0.104218 -32.922799   \n",
              "2      0.100096      0.103569      0.039324        0.086202  48.359265   \n",
              "3      0.159086      0.155114      0.052529        0.131818  68.131727   \n",
              "4      0.114492      0.105246      0.062997        0.096874  71.011809   \n",
              "\n",
              "   Set2_pitch  label  \n",
              "0   55.836663      0  \n",
              "1   31.748534      0  \n",
              "2   11.186103      0  \n",
              "3  -16.097374      0  \n",
              "4   27.494177      0  "
            ]
          },
          "execution_count": 17,
          "metadata": {},
          "output_type": "execute_result"
        }
      ],
      "source": [
        "dataset_df.head()"
      ]
    },
    {
      "cell_type": "code",
      "execution_count": 18,
      "metadata": {
        "colab": {
          "base_uri": "https://localhost:8080/"
        },
        "id": "dDbnU6EtKeAz",
        "outputId": "bd70d6c2-54a4-4ca3-ce32-e6948fb3635d"
      },
      "outputs": [
        {
          "name": "stderr",
          "output_type": "stream",
          "text": [
            "<ipython-input-18-d4599f5295a5>:24: PerformanceWarning: DataFrame is highly fragmented.  This is usually the result of calling `frame.insert` many times, which has poor performance.  Consider joining all columns at once using pd.concat(axis=1) instead. To get a de-fragmented frame, use `newframe = frame.copy()`\n",
            "  myData[f'Num Peaks {feature}'] = dataset_df.index.to_series().map(lambda x: peaks[x // 60])\n",
            "<ipython-input-18-d4599f5295a5>:26: PerformanceWarning: DataFrame is highly fragmented.  This is usually the result of calling `frame.insert` many times, which has poor performance.  Consider joining all columns at once using pd.concat(axis=1) instead. To get a de-fragmented frame, use `newframe = frame.copy()`\n",
            "  myData[f'AUC {feature}'] = np.cumsum(dataset_df[feature]) - np.concatenate(([0], np.cumsum(np.diff(dataset_df[feature])/2)), axis=0)\n",
            "<ipython-input-18-d4599f5295a5>:16: PerformanceWarning: DataFrame is highly fragmented.  This is usually the result of calling `frame.insert` many times, which has poor performance.  Consider joining all columns at once using pd.concat(axis=1) instead. To get a de-fragmented frame, use `newframe = frame.copy()`\n",
            "  myData[f'Mean {feature}'] = dataset_df.groupby(dataset_df.index // 60)[feature].transform('mean')\n",
            "<ipython-input-18-d4599f5295a5>:17: PerformanceWarning: DataFrame is highly fragmented.  This is usually the result of calling `frame.insert` many times, which has poor performance.  Consider joining all columns at once using pd.concat(axis=1) instead. To get a de-fragmented frame, use `newframe = frame.copy()`\n",
            "  myData[f'Std {feature}'] = dataset_df.groupby(dataset_df.index // 60)[feature].transform('std')\n",
            "<ipython-input-18-d4599f5295a5>:18: PerformanceWarning: DataFrame is highly fragmented.  This is usually the result of calling `frame.insert` many times, which has poor performance.  Consider joining all columns at once using pd.concat(axis=1) instead. To get a de-fragmented frame, use `newframe = frame.copy()`\n",
            "  myData[f'Min {feature}'] = dataset_df.groupby(dataset_df.index // 60)[feature].transform('min')\n",
            "<ipython-input-18-d4599f5295a5>:19: PerformanceWarning: DataFrame is highly fragmented.  This is usually the result of calling `frame.insert` many times, which has poor performance.  Consider joining all columns at once using pd.concat(axis=1) instead. To get a de-fragmented frame, use `newframe = frame.copy()`\n",
            "  myData[f'Max {feature}'] = dataset_df.groupby(dataset_df.index // 60)[feature].transform('max')\n",
            "<ipython-input-18-d4599f5295a5>:24: PerformanceWarning: DataFrame is highly fragmented.  This is usually the result of calling `frame.insert` many times, which has poor performance.  Consider joining all columns at once using pd.concat(axis=1) instead. To get a de-fragmented frame, use `newframe = frame.copy()`\n",
            "  myData[f'Num Peaks {feature}'] = dataset_df.index.to_series().map(lambda x: peaks[x // 60])\n",
            "<ipython-input-18-d4599f5295a5>:26: PerformanceWarning: DataFrame is highly fragmented.  This is usually the result of calling `frame.insert` many times, which has poor performance.  Consider joining all columns at once using pd.concat(axis=1) instead. To get a de-fragmented frame, use `newframe = frame.copy()`\n",
            "  myData[f'AUC {feature}'] = np.cumsum(dataset_df[feature]) - np.concatenate(([0], np.cumsum(np.diff(dataset_df[feature])/2)), axis=0)\n"
          ]
        }
      ],
      "source": [
        "# Function to compute the number of peaks in a group\n",
        "def count_peaks(group, feature):\n",
        "    peaks, _ = find_peaks(group[feature])\n",
        "    return len(peaks)\n",
        "\n",
        "columns = [ 'Right Lower Leg x', 'Right Lower Leg y', 'Right Lower Leg z',\n",
        "       'Left Lower Leg x', 'Left Lower Leg y', 'Left Lower Leg z',\n",
        "       'Set1_rms_x_y', 'Set1_rms_y_z', 'Set1_rms_z_x', 'Set1_rms_x_y_z',\n",
        "       'Set1_roll', 'Set1_pitch', 'Set2_rms_x_y', 'Set2_rms_y_z',\n",
        "       'Set2_rms_z_x', 'Set2_rms_x_y_z', 'Set2_roll', 'Set2_pitch' ]\n",
        "\n",
        "myData = pd.DataFrame()\n",
        "\n",
        "for feature in columns:\n",
        "    # Calculate various statistics for every 60 records\n",
        "    myData[f'Mean {feature}'] = dataset_df.groupby(dataset_df.index // 60)[feature].transform('mean')\n",
        "    myData[f'Std {feature}'] = dataset_df.groupby(dataset_df.index // 60)[feature].transform('std')\n",
        "    myData[f'Min {feature}'] = dataset_df.groupby(dataset_df.index // 60)[feature].transform('min')\n",
        "    myData[f'Max {feature}'] = dataset_df.groupby(dataset_df.index // 60)[feature].transform('max')\n",
        "    # Calculate number of peaks for each group\n",
        "    peaks = dataset_df.groupby(dataset_df.index // 60).apply(lambda g: count_peaks(g, feature))\n",
        "    # Align peaks with the original DataFrame size\n",
        "    myData[f'Num Peaks {feature}'] = dataset_df.index.to_series().map(lambda x: peaks[x // 60])\n",
        "\n",
        "    myData[f'AUC {feature}'] = np.cumsum(dataset_df[feature]) - np.concatenate(([0], np.cumsum(np.diff(dataset_df[feature])/2)), axis=0)\n",
        "\n"
      ]
    },
    {
      "cell_type": "code",
      "execution_count": 19,
      "metadata": {
        "colab": {
          "base_uri": "https://localhost:8080/",
          "height": 325
        },
        "id": "YefEjyEaKeAz",
        "outputId": "6126bab1-e514-4936-8247-193523b23c34"
      },
      "outputs": [
        {
          "data": {
            "application/vnd.google.colaboratory.intrinsic+json": {
              "type": "dataframe",
              "variable_name": "myData"
            },
            "text/html": [
              "\n",
              "  <div id=\"df-b7e59788-5deb-48d4-b0ef-ec4fcd02113e\" class=\"colab-df-container\">\n",
              "    <div>\n",
              "<style scoped>\n",
              "    .dataframe tbody tr th:only-of-type {\n",
              "        vertical-align: middle;\n",
              "    }\n",
              "\n",
              "    .dataframe tbody tr th {\n",
              "        vertical-align: top;\n",
              "    }\n",
              "\n",
              "    .dataframe thead th {\n",
              "        text-align: right;\n",
              "    }\n",
              "</style>\n",
              "<table border=\"1\" class=\"dataframe\">\n",
              "  <thead>\n",
              "    <tr style=\"text-align: right;\">\n",
              "      <th></th>\n",
              "      <th>Mean Right Lower Leg x</th>\n",
              "      <th>Std Right Lower Leg x</th>\n",
              "      <th>Min Right Lower Leg x</th>\n",
              "      <th>Max Right Lower Leg x</th>\n",
              "      <th>Num Peaks Right Lower Leg x</th>\n",
              "      <th>AUC Right Lower Leg x</th>\n",
              "      <th>Mean Right Lower Leg y</th>\n",
              "      <th>Std Right Lower Leg y</th>\n",
              "      <th>Min Right Lower Leg y</th>\n",
              "      <th>Max Right Lower Leg y</th>\n",
              "      <th>...</th>\n",
              "      <th>Min Set2_roll</th>\n",
              "      <th>Max Set2_roll</th>\n",
              "      <th>Num Peaks Set2_roll</th>\n",
              "      <th>AUC Set2_roll</th>\n",
              "      <th>Mean Set2_pitch</th>\n",
              "      <th>Std Set2_pitch</th>\n",
              "      <th>Min Set2_pitch</th>\n",
              "      <th>Max Set2_pitch</th>\n",
              "      <th>Num Peaks Set2_pitch</th>\n",
              "      <th>AUC Set2_pitch</th>\n",
              "    </tr>\n",
              "  </thead>\n",
              "  <tbody>\n",
              "    <tr>\n",
              "      <th>0</th>\n",
              "      <td>0.025233</td>\n",
              "      <td>0.196336</td>\n",
              "      <td>-0.337957</td>\n",
              "      <td>0.685027</td>\n",
              "      <td>14</td>\n",
              "      <td>0.219806</td>\n",
              "      <td>0.00846</td>\n",
              "      <td>0.368985</td>\n",
              "      <td>-0.738636</td>\n",
              "      <td>0.801465</td>\n",
              "      <td>...</td>\n",
              "      <td>-83.112235</td>\n",
              "      <td>85.055449</td>\n",
              "      <td>15</td>\n",
              "      <td>-47.443073</td>\n",
              "      <td>-1.971529</td>\n",
              "      <td>40.533459</td>\n",
              "      <td>-85.119584</td>\n",
              "      <td>69.454562</td>\n",
              "      <td>16</td>\n",
              "      <td>55.836663</td>\n",
              "    </tr>\n",
              "    <tr>\n",
              "      <th>1</th>\n",
              "      <td>0.025233</td>\n",
              "      <td>0.196336</td>\n",
              "      <td>-0.337957</td>\n",
              "      <td>0.685027</td>\n",
              "      <td>14</td>\n",
              "      <td>0.406178</td>\n",
              "      <td>0.00846</td>\n",
              "      <td>0.368985</td>\n",
              "      <td>-0.738636</td>\n",
              "      <td>0.801465</td>\n",
              "      <td>...</td>\n",
              "      <td>-83.112235</td>\n",
              "      <td>85.055449</td>\n",
              "      <td>15</td>\n",
              "      <td>-87.626009</td>\n",
              "      <td>-1.971529</td>\n",
              "      <td>40.533459</td>\n",
              "      <td>-85.119584</td>\n",
              "      <td>69.454562</td>\n",
              "      <td>16</td>\n",
              "      <td>99.629262</td>\n",
              "    </tr>\n",
              "    <tr>\n",
              "      <th>2</th>\n",
              "      <td>0.025233</td>\n",
              "      <td>0.196336</td>\n",
              "      <td>-0.337957</td>\n",
              "      <td>0.685027</td>\n",
              "      <td>14</td>\n",
              "      <td>0.487490</td>\n",
              "      <td>0.00846</td>\n",
              "      <td>0.368985</td>\n",
              "      <td>-0.738636</td>\n",
              "      <td>0.801465</td>\n",
              "      <td>...</td>\n",
              "      <td>-83.112235</td>\n",
              "      <td>85.055449</td>\n",
              "      <td>15</td>\n",
              "      <td>-79.907777</td>\n",
              "      <td>-1.971529</td>\n",
              "      <td>40.533459</td>\n",
              "      <td>-85.119584</td>\n",
              "      <td>69.454562</td>\n",
              "      <td>16</td>\n",
              "      <td>121.096580</td>\n",
              "    </tr>\n",
              "    <tr>\n",
              "      <th>3</th>\n",
              "      <td>0.025233</td>\n",
              "      <td>0.196336</td>\n",
              "      <td>-0.337957</td>\n",
              "      <td>0.685027</td>\n",
              "      <td>14</td>\n",
              "      <td>0.466124</td>\n",
              "      <td>0.00846</td>\n",
              "      <td>0.368985</td>\n",
              "      <td>-0.738636</td>\n",
              "      <td>0.801465</td>\n",
              "      <td>...</td>\n",
              "      <td>-83.112235</td>\n",
              "      <td>85.055449</td>\n",
              "      <td>15</td>\n",
              "      <td>-21.662281</td>\n",
              "      <td>-1.971529</td>\n",
              "      <td>40.533459</td>\n",
              "      <td>-85.119584</td>\n",
              "      <td>69.454562</td>\n",
              "      <td>16</td>\n",
              "      <td>118.640944</td>\n",
              "    </tr>\n",
              "    <tr>\n",
              "      <th>4</th>\n",
              "      <td>0.025233</td>\n",
              "      <td>0.196336</td>\n",
              "      <td>-0.337957</td>\n",
              "      <td>0.685027</td>\n",
              "      <td>14</td>\n",
              "      <td>0.472872</td>\n",
              "      <td>0.00846</td>\n",
              "      <td>0.368985</td>\n",
              "      <td>-0.738636</td>\n",
              "      <td>0.801465</td>\n",
              "      <td>...</td>\n",
              "      <td>-83.112235</td>\n",
              "      <td>85.055449</td>\n",
              "      <td>15</td>\n",
              "      <td>47.909487</td>\n",
              "      <td>-1.971529</td>\n",
              "      <td>40.533459</td>\n",
              "      <td>-85.119584</td>\n",
              "      <td>69.454562</td>\n",
              "      <td>16</td>\n",
              "      <td>124.339345</td>\n",
              "    </tr>\n",
              "  </tbody>\n",
              "</table>\n",
              "<p>5 rows × 108 columns</p>\n",
              "</div>\n",
              "    <div class=\"colab-df-buttons\">\n",
              "\n",
              "  <div class=\"colab-df-container\">\n",
              "    <button class=\"colab-df-convert\" onclick=\"convertToInteractive('df-b7e59788-5deb-48d4-b0ef-ec4fcd02113e')\"\n",
              "            title=\"Convert this dataframe to an interactive table.\"\n",
              "            style=\"display:none;\">\n",
              "\n",
              "  <svg xmlns=\"http://www.w3.org/2000/svg\" height=\"24px\" viewBox=\"0 -960 960 960\">\n",
              "    <path d=\"M120-120v-720h720v720H120Zm60-500h600v-160H180v160Zm220 220h160v-160H400v160Zm0 220h160v-160H400v160ZM180-400h160v-160H180v160Zm440 0h160v-160H620v160ZM180-180h160v-160H180v160Zm440 0h160v-160H620v160Z\"/>\n",
              "  </svg>\n",
              "    </button>\n",
              "\n",
              "  <style>\n",
              "    .colab-df-container {\n",
              "      display:flex;\n",
              "      gap: 12px;\n",
              "    }\n",
              "\n",
              "    .colab-df-convert {\n",
              "      background-color: #E8F0FE;\n",
              "      border: none;\n",
              "      border-radius: 50%;\n",
              "      cursor: pointer;\n",
              "      display: none;\n",
              "      fill: #1967D2;\n",
              "      height: 32px;\n",
              "      padding: 0 0 0 0;\n",
              "      width: 32px;\n",
              "    }\n",
              "\n",
              "    .colab-df-convert:hover {\n",
              "      background-color: #E2EBFA;\n",
              "      box-shadow: 0px 1px 2px rgba(60, 64, 67, 0.3), 0px 1px 3px 1px rgba(60, 64, 67, 0.15);\n",
              "      fill: #174EA6;\n",
              "    }\n",
              "\n",
              "    .colab-df-buttons div {\n",
              "      margin-bottom: 4px;\n",
              "    }\n",
              "\n",
              "    [theme=dark] .colab-df-convert {\n",
              "      background-color: #3B4455;\n",
              "      fill: #D2E3FC;\n",
              "    }\n",
              "\n",
              "    [theme=dark] .colab-df-convert:hover {\n",
              "      background-color: #434B5C;\n",
              "      box-shadow: 0px 1px 3px 1px rgba(0, 0, 0, 0.15);\n",
              "      filter: drop-shadow(0px 1px 2px rgba(0, 0, 0, 0.3));\n",
              "      fill: #FFFFFF;\n",
              "    }\n",
              "  </style>\n",
              "\n",
              "    <script>\n",
              "      const buttonEl =\n",
              "        document.querySelector('#df-b7e59788-5deb-48d4-b0ef-ec4fcd02113e button.colab-df-convert');\n",
              "      buttonEl.style.display =\n",
              "        google.colab.kernel.accessAllowed ? 'block' : 'none';\n",
              "\n",
              "      async function convertToInteractive(key) {\n",
              "        const element = document.querySelector('#df-b7e59788-5deb-48d4-b0ef-ec4fcd02113e');\n",
              "        const dataTable =\n",
              "          await google.colab.kernel.invokeFunction('convertToInteractive',\n",
              "                                                    [key], {});\n",
              "        if (!dataTable) return;\n",
              "\n",
              "        const docLinkHtml = 'Like what you see? Visit the ' +\n",
              "          '<a target=\"_blank\" href=https://colab.research.google.com/notebooks/data_table.ipynb>data table notebook</a>'\n",
              "          + ' to learn more about interactive tables.';\n",
              "        element.innerHTML = '';\n",
              "        dataTable['output_type'] = 'display_data';\n",
              "        await google.colab.output.renderOutput(dataTable, element);\n",
              "        const docLink = document.createElement('div');\n",
              "        docLink.innerHTML = docLinkHtml;\n",
              "        element.appendChild(docLink);\n",
              "      }\n",
              "    </script>\n",
              "  </div>\n",
              "\n",
              "\n",
              "<div id=\"df-a3b803c9-122e-4894-a34d-1b726deff4c2\">\n",
              "  <button class=\"colab-df-quickchart\" onclick=\"quickchart('df-a3b803c9-122e-4894-a34d-1b726deff4c2')\"\n",
              "            title=\"Suggest charts\"\n",
              "            style=\"display:none;\">\n",
              "\n",
              "<svg xmlns=\"http://www.w3.org/2000/svg\" height=\"24px\"viewBox=\"0 0 24 24\"\n",
              "     width=\"24px\">\n",
              "    <g>\n",
              "        <path d=\"M19 3H5c-1.1 0-2 .9-2 2v14c0 1.1.9 2 2 2h14c1.1 0 2-.9 2-2V5c0-1.1-.9-2-2-2zM9 17H7v-7h2v7zm4 0h-2V7h2v10zm4 0h-2v-4h2v4z\"/>\n",
              "    </g>\n",
              "</svg>\n",
              "  </button>\n",
              "\n",
              "<style>\n",
              "  .colab-df-quickchart {\n",
              "      --bg-color: #E8F0FE;\n",
              "      --fill-color: #1967D2;\n",
              "      --hover-bg-color: #E2EBFA;\n",
              "      --hover-fill-color: #174EA6;\n",
              "      --disabled-fill-color: #AAA;\n",
              "      --disabled-bg-color: #DDD;\n",
              "  }\n",
              "\n",
              "  [theme=dark] .colab-df-quickchart {\n",
              "      --bg-color: #3B4455;\n",
              "      --fill-color: #D2E3FC;\n",
              "      --hover-bg-color: #434B5C;\n",
              "      --hover-fill-color: #FFFFFF;\n",
              "      --disabled-bg-color: #3B4455;\n",
              "      --disabled-fill-color: #666;\n",
              "  }\n",
              "\n",
              "  .colab-df-quickchart {\n",
              "    background-color: var(--bg-color);\n",
              "    border: none;\n",
              "    border-radius: 50%;\n",
              "    cursor: pointer;\n",
              "    display: none;\n",
              "    fill: var(--fill-color);\n",
              "    height: 32px;\n",
              "    padding: 0;\n",
              "    width: 32px;\n",
              "  }\n",
              "\n",
              "  .colab-df-quickchart:hover {\n",
              "    background-color: var(--hover-bg-color);\n",
              "    box-shadow: 0 1px 2px rgba(60, 64, 67, 0.3), 0 1px 3px 1px rgba(60, 64, 67, 0.15);\n",
              "    fill: var(--button-hover-fill-color);\n",
              "  }\n",
              "\n",
              "  .colab-df-quickchart-complete:disabled,\n",
              "  .colab-df-quickchart-complete:disabled:hover {\n",
              "    background-color: var(--disabled-bg-color);\n",
              "    fill: var(--disabled-fill-color);\n",
              "    box-shadow: none;\n",
              "  }\n",
              "\n",
              "  .colab-df-spinner {\n",
              "    border: 2px solid var(--fill-color);\n",
              "    border-color: transparent;\n",
              "    border-bottom-color: var(--fill-color);\n",
              "    animation:\n",
              "      spin 1s steps(1) infinite;\n",
              "  }\n",
              "\n",
              "  @keyframes spin {\n",
              "    0% {\n",
              "      border-color: transparent;\n",
              "      border-bottom-color: var(--fill-color);\n",
              "      border-left-color: var(--fill-color);\n",
              "    }\n",
              "    20% {\n",
              "      border-color: transparent;\n",
              "      border-left-color: var(--fill-color);\n",
              "      border-top-color: var(--fill-color);\n",
              "    }\n",
              "    30% {\n",
              "      border-color: transparent;\n",
              "      border-left-color: var(--fill-color);\n",
              "      border-top-color: var(--fill-color);\n",
              "      border-right-color: var(--fill-color);\n",
              "    }\n",
              "    40% {\n",
              "      border-color: transparent;\n",
              "      border-right-color: var(--fill-color);\n",
              "      border-top-color: var(--fill-color);\n",
              "    }\n",
              "    60% {\n",
              "      border-color: transparent;\n",
              "      border-right-color: var(--fill-color);\n",
              "    }\n",
              "    80% {\n",
              "      border-color: transparent;\n",
              "      border-right-color: var(--fill-color);\n",
              "      border-bottom-color: var(--fill-color);\n",
              "    }\n",
              "    90% {\n",
              "      border-color: transparent;\n",
              "      border-bottom-color: var(--fill-color);\n",
              "    }\n",
              "  }\n",
              "</style>\n",
              "\n",
              "  <script>\n",
              "    async function quickchart(key) {\n",
              "      const quickchartButtonEl =\n",
              "        document.querySelector('#' + key + ' button');\n",
              "      quickchartButtonEl.disabled = true;  // To prevent multiple clicks.\n",
              "      quickchartButtonEl.classList.add('colab-df-spinner');\n",
              "      try {\n",
              "        const charts = await google.colab.kernel.invokeFunction(\n",
              "            'suggestCharts', [key], {});\n",
              "      } catch (error) {\n",
              "        console.error('Error during call to suggestCharts:', error);\n",
              "      }\n",
              "      quickchartButtonEl.classList.remove('colab-df-spinner');\n",
              "      quickchartButtonEl.classList.add('colab-df-quickchart-complete');\n",
              "    }\n",
              "    (() => {\n",
              "      let quickchartButtonEl =\n",
              "        document.querySelector('#df-a3b803c9-122e-4894-a34d-1b726deff4c2 button');\n",
              "      quickchartButtonEl.style.display =\n",
              "        google.colab.kernel.accessAllowed ? 'block' : 'none';\n",
              "    })();\n",
              "  </script>\n",
              "</div>\n",
              "\n",
              "    </div>\n",
              "  </div>\n"
            ],
            "text/plain": [
              "   Mean Right Lower Leg x  Std Right Lower Leg x  Min Right Lower Leg x  \\\n",
              "0                0.025233               0.196336              -0.337957   \n",
              "1                0.025233               0.196336              -0.337957   \n",
              "2                0.025233               0.196336              -0.337957   \n",
              "3                0.025233               0.196336              -0.337957   \n",
              "4                0.025233               0.196336              -0.337957   \n",
              "\n",
              "   Max Right Lower Leg x  Num Peaks Right Lower Leg x  AUC Right Lower Leg x  \\\n",
              "0               0.685027                           14               0.219806   \n",
              "1               0.685027                           14               0.406178   \n",
              "2               0.685027                           14               0.487490   \n",
              "3               0.685027                           14               0.466124   \n",
              "4               0.685027                           14               0.472872   \n",
              "\n",
              "   Mean Right Lower Leg y  Std Right Lower Leg y  Min Right Lower Leg y  \\\n",
              "0                 0.00846               0.368985              -0.738636   \n",
              "1                 0.00846               0.368985              -0.738636   \n",
              "2                 0.00846               0.368985              -0.738636   \n",
              "3                 0.00846               0.368985              -0.738636   \n",
              "4                 0.00846               0.368985              -0.738636   \n",
              "\n",
              "   Max Right Lower Leg y  ...  Min Set2_roll  Max Set2_roll  \\\n",
              "0               0.801465  ...     -83.112235      85.055449   \n",
              "1               0.801465  ...     -83.112235      85.055449   \n",
              "2               0.801465  ...     -83.112235      85.055449   \n",
              "3               0.801465  ...     -83.112235      85.055449   \n",
              "4               0.801465  ...     -83.112235      85.055449   \n",
              "\n",
              "   Num Peaks Set2_roll  AUC Set2_roll  Mean Set2_pitch  Std Set2_pitch  \\\n",
              "0                   15     -47.443073        -1.971529       40.533459   \n",
              "1                   15     -87.626009        -1.971529       40.533459   \n",
              "2                   15     -79.907777        -1.971529       40.533459   \n",
              "3                   15     -21.662281        -1.971529       40.533459   \n",
              "4                   15      47.909487        -1.971529       40.533459   \n",
              "\n",
              "   Min Set2_pitch  Max Set2_pitch  Num Peaks Set2_pitch  AUC Set2_pitch  \n",
              "0      -85.119584       69.454562                    16       55.836663  \n",
              "1      -85.119584       69.454562                    16       99.629262  \n",
              "2      -85.119584       69.454562                    16      121.096580  \n",
              "3      -85.119584       69.454562                    16      118.640944  \n",
              "4      -85.119584       69.454562                    16      124.339345  \n",
              "\n",
              "[5 rows x 108 columns]"
            ]
          },
          "execution_count": 19,
          "metadata": {},
          "output_type": "execute_result"
        }
      ],
      "source": [
        "myData.head()"
      ]
    },
    {
      "cell_type": "code",
      "execution_count": 20,
      "metadata": {
        "colab": {
          "base_uri": "https://localhost:8080/"
        },
        "id": "LWIRHtH0KeAz",
        "outputId": "b90110f0-227d-46b2-be82-18a648be075e"
      },
      "outputs": [
        {
          "name": "stdout",
          "output_type": "stream",
          "text": [
            "<class 'pandas.core.frame.DataFrame'>\n",
            "RangeIndex: 72060 entries, 0 to 72059\n",
            "Columns: 108 entries, Mean Right Lower Leg x to AUC Set2_pitch\n",
            "dtypes: float64(90), int64(18)\n",
            "memory usage: 59.4 MB\n"
          ]
        }
      ],
      "source": [
        "myData.info()"
      ]
    },
    {
      "cell_type": "markdown",
      "metadata": {
        "id": "7p-1cu9qKeAz"
      },
      "source": [
        "## Step 4: Training"
      ]
    },
    {
      "cell_type": "markdown",
      "metadata": {
        "id": "Fr8uw0NmKeAz"
      },
      "source": [
        "### 1. Train-Test split (70/30)"
      ]
    },
    {
      "cell_type": "code",
      "execution_count": 21,
      "metadata": {
        "id": "TLUfcGJYKeA0"
      },
      "outputs": [],
      "source": [
        "X_train, X_test, y_train, y_test = train_test_split(\n",
        "    myData,\n",
        "    dataset_df['label'],\n",
        "    test_size=0.3,\n",
        "    random_state=1\n",
        ")"
      ]
    },
    {
      "cell_type": "markdown",
      "metadata": {
        "id": "31mvkwVYKeA0"
      },
      "source": [
        "### 2. SVM With 10-fold cross validation"
      ]
    },
    {
      "cell_type": "code",
      "execution_count": 22,
      "metadata": {
        "colab": {
          "base_uri": "https://localhost:8080/"
        },
        "id": "-TqbtBfaKeA0",
        "outputId": "06b651b9-61ef-40a8-eae5-1c902372968d"
      },
      "outputs": [
        {
          "name": "stdout",
          "output_type": "stream",
          "text": [
            "[0.99861249 0.99762141 0.99881047 0.99801745 0.99841396 0.99722443\n",
            " 0.99841396 0.99881047 0.9982157  0.99762094]\n"
          ]
        },
        {
          "data": {
            "text/plain": [
              "0.9978258858358775"
            ]
          },
          "execution_count": 22,
          "metadata": {},
          "output_type": "execute_result"
        }
      ],
      "source": [
        "clf = svm.SVC()\n",
        "clf.fit(X_train, y_train)\n",
        "scores = cross_val_score(clf, X_train, y_train, cv=10)\n",
        "print(scores)\n",
        "\n",
        "y_pred = clf.predict(X_test)\n",
        "accuracy_score(y_test,y_pred)"
      ]
    },
    {
      "cell_type": "markdown",
      "metadata": {
        "id": "DLaSsWZ4KeA0"
      },
      "source": [
        "### 3. 1 and 2 with hyper parameter tuning"
      ]
    },
    {
      "cell_type": "code",
      "execution_count": 25,
      "metadata": {
        "colab": {
          "base_uri": "https://localhost:8080/"
        },
        "id": "wQMny2b_KeA0",
        "outputId": "2ac639cc-7116-4a4e-8947-4fc2a532db50"
      },
      "outputs": [
        {
          "name": "stdout",
          "output_type": "stream",
          "text": [
            "[0.99940535 0.99861249 0.99960349 0.99861221 0.99960349 0.99781919\n",
            " 0.99881047 0.99920698 0.99881047 0.99841396]\n"
          ]
        },
        {
          "data": {
            "text/plain": [
              "0.9988435562956796"
            ]
          },
          "execution_count": 25,
          "metadata": {},
          "output_type": "execute_result"
        }
      ],
      "source": [
        "hyper_parameters = {'C':[1, 10, 20]}\n",
        "svc_model = svm.SVC()\n",
        "clf = GridSearchCV(svc_model, hyper_parameters)\n",
        "clf.fit(X_train, y_train)\n",
        "scores = cross_val_score(clf, X_train, y_train, cv=10)\n",
        "print(scores)\n",
        "\n",
        "y_pred = clf.predict(X_test)\n",
        "accuracy_score(y_test,y_pred)"
      ]
    },
    {
      "cell_type": "markdown",
      "metadata": {
        "id": "FxoHOwZWKeA0"
      },
      "source": [
        "### 4. 1 and 2 with hyper parameter tuning and 10 best features"
      ]
    },
    {
      "cell_type": "code",
      "execution_count": 27,
      "metadata": {
        "colab": {
          "base_uri": "https://localhost:8080/"
        },
        "id": "AlDC2mOOKeA0",
        "outputId": "4c4d9650-459e-4236-d36b-5d51d123a2c0"
      },
      "outputs": [
        {
          "name": "stdout",
          "output_type": "stream",
          "text": [
            "(50442, 10)\n",
            "(21618, 10)\n"
          ]
        }
      ],
      "source": [
        "X_new = SelectKBest(f_regression, k=10).fit_transform(myData, dataset_df['label'])\n",
        "X_train, X_test, y_train, y_test = train_test_split(X_new, dataset_df['label'], test_size=0.3, random_state=1)\n",
        "print(X_train.shape)\n",
        "print(X_test.shape)"
      ]
    },
    {
      "cell_type": "code",
      "execution_count": 28,
      "metadata": {
        "colab": {
          "base_uri": "https://localhost:8080/"
        },
        "id": "4TSw3hgMKeA0",
        "outputId": "7f35f0b0-ad7f-4be2-b91b-ed1ca173227e"
      },
      "outputs": [
        {
          "name": "stdout",
          "output_type": "stream",
          "text": [
            "[0.99920714 0.99900892 0.99960349 0.99940523 0.99940523 0.99841396\n",
            " 0.99940523 0.99960349 0.99940523 0.99920698]\n"
          ]
        },
        {
          "data": {
            "text/plain": [
              "0.9995374225182718"
            ]
          },
          "execution_count": 28,
          "metadata": {},
          "output_type": "execute_result"
        }
      ],
      "source": [
        "hyper_parameters = {'C':[1, 10, 20]}\n",
        "svc_model = svm.SVC()\n",
        "clf = GridSearchCV(svc_model, hyper_parameters)\n",
        "clf.fit(X_train, y_train)\n",
        "scores = cross_val_score(clf, X_train, y_train, cv=10)\n",
        "print(scores)\n",
        "\n",
        "y_pred = clf.predict(X_test)\n",
        "accuracy_score(y_test,y_pred)"
      ]
    },
    {
      "cell_type": "markdown",
      "metadata": {
        "id": "U2-9_ABlKeA0"
      },
      "source": [
        "### 5. 1 and 2 with hyper parameter tuning and 10 principal components"
      ]
    },
    {
      "cell_type": "code",
      "execution_count": 29,
      "metadata": {
        "colab": {
          "base_uri": "https://localhost:8080/"
        },
        "id": "qgsxHgmzKeA0",
        "outputId": "0fd0cefc-d5f9-48b7-91cb-99514fda5676"
      },
      "outputs": [
        {
          "name": "stdout",
          "output_type": "stream",
          "text": [
            "(72060, 10)\n"
          ]
        }
      ],
      "source": [
        "pca = PCA(n_components=10).fit(myData)\n",
        "X_train_pca = pca.fit_transform(myData)\n",
        "print(X_train_pca.shape)"
      ]
    },
    {
      "cell_type": "code",
      "execution_count": 31,
      "metadata": {
        "colab": {
          "base_uri": "https://localhost:8080/"
        },
        "id": "U0VdSGG_KeA0",
        "outputId": "c273dcef-637d-47c0-a598-101240f39838"
      },
      "outputs": [
        {
          "name": "stdout",
          "output_type": "stream",
          "text": [
            "(50442, 10)\n",
            "(50442,)\n",
            "(21618, 10)\n",
            "(21618,)\n"
          ]
        }
      ],
      "source": [
        "X_train, X_test, y_train, y_test = train_test_split(X_train_pca, dataset_df['label'], test_size=0.3, random_state=1)\n",
        "print(X_train.shape)\n",
        "print(y_train.shape)\n",
        "print(X_test.shape)\n",
        "print(y_test.shape)"
      ]
    },
    {
      "cell_type": "code",
      "execution_count": 32,
      "metadata": {
        "colab": {
          "base_uri": "https://localhost:8080/"
        },
        "id": "knheprWXKeA1",
        "outputId": "d86e5618-531e-4b90-c5bc-5cef74cb43ee"
      },
      "outputs": [
        {
          "name": "stdout",
          "output_type": "stream",
          "text": [
            "[0.99980178 0.99940535 1.         0.99960349 0.99980174 0.99881047\n",
            " 0.99980174 0.99980174 0.99960349 0.99940523]\n"
          ]
        },
        {
          "data": {
            "text/plain": [
              "0.9996299380146174"
            ]
          },
          "execution_count": 32,
          "metadata": {},
          "output_type": "execute_result"
        }
      ],
      "source": [
        "hyper_parameters = {'C':[1, 10, 20]}\n",
        "svc_model = svm.SVC()\n",
        "clf = GridSearchCV(svc_model, hyper_parameters)\n",
        "clf.fit(X_train, y_train)\n",
        "scores = cross_val_score(clf, X_train, y_train, cv=10)\n",
        "print(scores)\n",
        "\n",
        "y_pred = clf.predict(X_test)\n",
        "accuracy_score(y_test,y_pred)"
      ]
    },
    {
      "cell_type": "markdown",
      "metadata": {
        "id": "UHdmmZ0DKtyw"
      },
      "source": [
        "## SGD, Random Forest, MLP"
      ]
    },
    {
      "cell_type": "code",
      "execution_count": 33,
      "metadata": {
        "id": "PhMT7VHiK3Dz"
      },
      "outputs": [],
      "source": [
        "X_train, X_test, y_train, y_test = train_test_split(\n",
        "    myData,\n",
        "    dataset_df['label'],\n",
        "    test_size=0.3,\n",
        "    random_state=1\n",
        ")"
      ]
    },
    {
      "cell_type": "markdown",
      "metadata": {
        "id": "ihvtaInmLNFw"
      },
      "source": [
        "#### SGD"
      ]
    },
    {
      "cell_type": "code",
      "execution_count": 34,
      "metadata": {
        "colab": {
          "base_uri": "https://localhost:8080/"
        },
        "id": "LP0nbucQK7yV",
        "outputId": "34e7db26-3b82-4c31-e238-2945dc4ffbb7"
      },
      "outputs": [
        {
          "name": "stderr",
          "output_type": "stream",
          "text": [
            "/usr/local/lib/python3.10/dist-packages/sklearn/linear_model/_stochastic_gradient.py:744: ConvergenceWarning: Maximum number of iteration reached before convergence. Consider increasing max_iter to improve the fit.\n",
            "  warnings.warn(\n"
          ]
        },
        {
          "data": {
            "text/plain": [
              "0.9423165880284948"
            ]
          },
          "execution_count": 34,
          "metadata": {},
          "output_type": "execute_result"
        }
      ],
      "source": [
        "clf = SGDClassifier(loss=\"hinge\", max_iter=5)\n",
        "clf.fit(X_train, y_train)\n",
        "y_pred = clf.predict(X_test)\n",
        "accuracy_score(y_test,y_pred)"
      ]
    },
    {
      "cell_type": "markdown",
      "metadata": {
        "id": "9Ejb9D6yLRqE"
      },
      "source": [
        "#### Random Forest"
      ]
    },
    {
      "cell_type": "code",
      "execution_count": 35,
      "metadata": {
        "colab": {
          "base_uri": "https://localhost:8080/"
        },
        "id": "dO5OOnNMLTyX",
        "outputId": "3effa17a-11e9-4687-98d5-7066379e16ef"
      },
      "outputs": [
        {
          "data": {
            "text/plain": [
              "0.9999074845036544"
            ]
          },
          "execution_count": 35,
          "metadata": {},
          "output_type": "execute_result"
        }
      ],
      "source": [
        "clf = RandomForestClassifier()\n",
        "clf.fit(X_train, y_train)\n",
        "y_pred = clf.predict(X_test)\n",
        "accuracy_score(y_test,y_pred)"
      ]
    },
    {
      "cell_type": "markdown",
      "metadata": {
        "id": "Effg8QJkLWKU"
      },
      "source": [
        "#### MLP"
      ]
    },
    {
      "cell_type": "code",
      "execution_count": 36,
      "metadata": {
        "colab": {
          "base_uri": "https://localhost:8080/"
        },
        "id": "_TxnCndWLX5b",
        "outputId": "0c42ba32-a2ec-41a9-f5a1-1f1f27361336"
      },
      "outputs": [
        {
          "data": {
            "text/plain": [
              "0.9998612267554815"
            ]
          },
          "execution_count": 36,
          "metadata": {},
          "output_type": "execute_result"
        }
      ],
      "source": [
        "clf = MLPClassifier()\n",
        "clf.fit(X_train, y_train)\n",
        "y_pred = clf.predict(X_test)\n",
        "accuracy_score(y_test,y_pred)"
      ]
    }
  ],
  "metadata": {
    "accelerator": "GPU",
    "colab": {
      "gpuType": "T4",
      "provenance": []
    },
    "kernelspec": {
      "display_name": "Python 3",
      "name": "python3"
    },
    "language_info": {
      "codemirror_mode": {
        "name": "ipython",
        "version": 3
      },
      "file_extension": ".py",
      "mimetype": "text/x-python",
      "name": "python",
      "nbconvert_exporter": "python",
      "pygments_lexer": "ipython3",
      "version": "3.10.9"
    }
  },
  "nbformat": 4,
  "nbformat_minor": 0
}
