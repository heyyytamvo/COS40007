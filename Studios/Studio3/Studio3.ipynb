{
  "cells": [
    {
      "cell_type": "markdown",
      "metadata": {
        "id": "MzG7tzcuRqK6"
      },
      "source": [
        "# Import Dependencies"
      ]
    },
    {
      "cell_type": "code",
      "execution_count": 1,
      "metadata": {
        "id": "BfvU8ntsRqK7"
      },
      "outputs": [],
      "source": [
        "import pandas as pd\n",
        "import matplotlib.pyplot as plt\n",
        "import seaborn as sns\n",
        "import numpy as np"
      ]
    },
    {
      "cell_type": "markdown",
      "metadata": {
        "id": "rOyh_kaSRqK7"
      },
      "source": [
        "# Studio Activity 1"
      ]
    },
    {
      "cell_type": "markdown",
      "metadata": {
        "id": "ftSdDqHDRqK8"
      },
      "source": [
        "## Read the Dataframe"
      ]
    },
    {
      "cell_type": "code",
      "execution_count": 2,
      "metadata": {
        "id": "MNxL-30FRqK8"
      },
      "outputs": [],
      "source": [
        "w1_df = pd.read_csv('w1.csv')\n",
        "w2_df = pd.read_csv('w2.csv')\n",
        "w3_df = pd.read_csv('w3.csv')\n",
        "w4_df = pd.read_csv('w4.csv')"
      ]
    },
    {
      "cell_type": "markdown",
      "metadata": {
        "id": "MCkfFmGdRqK8"
      },
      "source": [
        "## Combine into 1 Pandas Dataframe"
      ]
    },
    {
      "cell_type": "code",
      "execution_count": 3,
      "metadata": {
        "id": "x8-kXqP_RqK8"
      },
      "outputs": [],
      "source": [
        "# Merge the DataFrames\n",
        "merged_df = pd.concat([w1_df, w2_df, w3_df, w4_df], ignore_index=True)"
      ]
    },
    {
      "cell_type": "code",
      "execution_count": 4,
      "metadata": {
        "colab": {
          "base_uri": "https://localhost:8080/"
        },
        "id": "GPqU_ukZRqK8",
        "outputId": "f3fce967-b164-4fbb-cad8-9597a5d4d993"
      },
      "outputs": [
        {
          "output_type": "stream",
          "name": "stdout",
          "text": [
            "<class 'pandas.core.frame.DataFrame'>\n",
            "RangeIndex: 11629 entries, 0 to 11628\n",
            "Columns: 157 entries, acc_mean_x_right to class\n",
            "dtypes: float64(128), int64(29)\n",
            "memory usage: 13.9 MB\n"
          ]
        }
      ],
      "source": [
        "# Shuffle the DataFrame\n",
        "merged_df = merged_df.sample(frac=1).reset_index(drop=True)\n",
        "merged_df.info()"
      ]
    },
    {
      "cell_type": "markdown",
      "metadata": {
        "id": "42gdJdIPRqK8"
      },
      "source": [
        "# Studio Activity 2: Model Training"
      ]
    },
    {
      "cell_type": "markdown",
      "metadata": {
        "id": "s7P2gKU_RqK9"
      },
      "source": [
        "## Import Dependencies"
      ]
    },
    {
      "cell_type": "code",
      "execution_count": 5,
      "metadata": {
        "id": "JZ0Ui30IRqK9"
      },
      "outputs": [],
      "source": [
        "from sklearn import svm\n",
        "from sklearn.model_selection import train_test_split\n",
        "from sklearn.metrics import accuracy_score\n",
        "from sklearn.model_selection import cross_val_score"
      ]
    },
    {
      "cell_type": "markdown",
      "metadata": {
        "id": "iJdUxxXyRqK9"
      },
      "source": [
        "## Seperate Train, Test Set"
      ]
    },
    {
      "cell_type": "code",
      "execution_count": 6,
      "metadata": {
        "colab": {
          "base_uri": "https://localhost:8080/"
        },
        "id": "Hdrcu9x9RqK9",
        "outputId": "ae304b05-150a-4573-e6f2-cfae49e52f8c"
      },
      "outputs": [
        {
          "output_type": "stream",
          "name": "stdout",
          "text": [
            "(8140, 156)\n",
            "(3489, 156)\n"
          ]
        }
      ],
      "source": [
        "X_train, X_test, y_train, y_test = train_test_split(merged_df.drop(columns=['class']), merged_df['class'], test_size=0.3, random_state=1)\n",
        "print(X_train.shape)\n",
        "print(X_test.shape)"
      ]
    },
    {
      "cell_type": "markdown",
      "metadata": {
        "id": "zHVDefuZRqK9"
      },
      "source": [
        "## Train the model using SVM without Cross Validation"
      ]
    },
    {
      "cell_type": "code",
      "execution_count": 7,
      "metadata": {
        "colab": {
          "base_uri": "https://localhost:8080/"
        },
        "id": "arj14M0URqK9",
        "outputId": "c896e80e-6165-46b2-ff8d-82b7ea20e0ec"
      },
      "outputs": [
        {
          "output_type": "execute_result",
          "data": {
            "text/plain": [
              "0.8882201203783319"
            ]
          },
          "metadata": {},
          "execution_count": 7
        }
      ],
      "source": [
        "clf = svm.SVC()\n",
        "clf.fit(X_train, y_train)\n",
        "y_pred = clf.predict(X_test)\n",
        "accuracy_score(y_test,y_pred)"
      ]
    },
    {
      "cell_type": "markdown",
      "metadata": {
        "id": "ihVBpXj1RqK9"
      },
      "source": [
        "## Train the model using SVM with Cross Validation"
      ]
    },
    {
      "cell_type": "code",
      "execution_count": 8,
      "metadata": {
        "colab": {
          "base_uri": "https://localhost:8080/"
        },
        "id": "pjwwAV7DRqK9",
        "outputId": "43f46eab-59b3-4f88-a211-25a07f2bf2fc"
      },
      "outputs": [
        {
          "output_type": "stream",
          "name": "stdout",
          "text": [
            "[0.8992629  0.89189189 0.8955774  0.8992629  0.8968059  0.88820639\n",
            " 0.88943489 0.9004914  0.87714988 0.89066339]\n"
          ]
        },
        {
          "output_type": "execute_result",
          "data": {
            "text/plain": [
              "0.8882201203783319"
            ]
          },
          "metadata": {},
          "execution_count": 8
        }
      ],
      "source": [
        "clf = svm.SVC()\n",
        "clf.fit(X_train, y_train)\n",
        "scores = cross_val_score(clf, X_train, y_train, cv=10)\n",
        "print(scores)\n",
        "\n",
        "y_pred = clf.predict(X_test)\n",
        "accuracy_score(y_test,y_pred)"
      ]
    },
    {
      "cell_type": "markdown",
      "metadata": {
        "id": "PHYuJrdARqK9"
      },
      "source": [
        "# Studio Activity 3: Hyper parameter tuning"
      ]
    },
    {
      "cell_type": "markdown",
      "metadata": {
        "id": "ikb72796RqK9"
      },
      "source": [
        "## Using sigmoid (rbf is default kernel)"
      ]
    },
    {
      "cell_type": "code",
      "execution_count": 9,
      "metadata": {
        "colab": {
          "base_uri": "https://localhost:8080/"
        },
        "id": "pFoP-EYNRqK9",
        "outputId": "2fafba23-1f98-455d-bb6f-1f16e7a55f2d"
      },
      "outputs": [
        {
          "output_type": "execute_result",
          "data": {
            "text/plain": [
              "0.8071080538836343"
            ]
          },
          "metadata": {},
          "execution_count": 9
        }
      ],
      "source": [
        "clf = svm.SVC(kernel='sigmoid')\n",
        "clf.fit(X_train, y_train)\n",
        "y_pred = clf.predict(X_test)\n",
        "accuracy_score(y_test,y_pred)"
      ]
    },
    {
      "cell_type": "markdown",
      "metadata": {
        "id": "U8vDzQaLRqK-"
      },
      "source": [
        "## Using GridSearchCV to identify optimal values of hyper parameters"
      ]
    },
    {
      "cell_type": "code",
      "execution_count": 10,
      "metadata": {
        "id": "FpKjR88fRqK-"
      },
      "outputs": [],
      "source": [
        "from sklearn.model_selection import GridSearchCV"
      ]
    },
    {
      "cell_type": "code",
      "execution_count": 11,
      "metadata": {
        "colab": {
          "base_uri": "https://localhost:8080/"
        },
        "id": "lIqNYY3hRqK-",
        "outputId": "8cabb8b9-99b0-4f15-b227-64c03d21857d"
      },
      "outputs": [
        {
          "output_type": "stream",
          "name": "stdout",
          "text": [
            "[0.89434889 0.8980344  0.8992629  0.90786241 0.90663391 0.88452088\n",
            " 0.89189189 0.9041769  0.88329238 0.8980344 ]\n"
          ]
        },
        {
          "output_type": "execute_result",
          "data": {
            "text/plain": [
              "0.8945256520492978"
            ]
          },
          "metadata": {},
          "execution_count": 11
        }
      ],
      "source": [
        "hyper_parameters = {'kernel':('sigmoid', 'rbf'), 'C':[1, 10, 20]}\n",
        "svc_model = svm.SVC()\n",
        "clf = GridSearchCV(svc_model, hyper_parameters)\n",
        "clf.fit(X_train, y_train)\n",
        "scores = cross_val_score(clf, X_train, y_train, cv=10)\n",
        "print(scores)\n",
        "y_pred = clf.predict(X_test)\n",
        "accuracy_score(y_test,y_pred)"
      ]
    },
    {
      "cell_type": "markdown",
      "metadata": {
        "id": "94MOGrb7RqK-"
      },
      "source": [
        "# Studio Activity 4: Feature Selection"
      ]
    },
    {
      "cell_type": "markdown",
      "metadata": {
        "id": "AuCYIKzZRqK-"
      },
      "source": [
        "#### Importing Dependecies"
      ]
    },
    {
      "cell_type": "code",
      "execution_count": 12,
      "metadata": {
        "id": "EuiQk9IfRqK-"
      },
      "outputs": [],
      "source": [
        "from sklearn.feature_selection import SelectKBest, f_regression"
      ]
    },
    {
      "cell_type": "markdown",
      "metadata": {
        "id": "Lb3KjuzGRqK-"
      },
      "source": [
        "#### Select 100 best feature from X_train"
      ]
    },
    {
      "cell_type": "code",
      "execution_count": 13,
      "metadata": {
        "colab": {
          "base_uri": "https://localhost:8080/"
        },
        "id": "r2bNtXVYRqK-",
        "outputId": "a96d8339-d291-4054-e91a-85cabff4128a"
      },
      "outputs": [
        {
          "output_type": "stream",
          "name": "stdout",
          "text": [
            "(8140, 156)\n"
          ]
        }
      ],
      "source": [
        "print(X_train.shape)"
      ]
    },
    {
      "cell_type": "code",
      "execution_count": 14,
      "metadata": {
        "id": "AMqpyiHZRqK-"
      },
      "outputs": [],
      "source": [
        "X_new = SelectKBest(f_regression, k=100).fit_transform(merged_df.drop(columns=['class']), merged_df['class'])"
      ]
    },
    {
      "cell_type": "code",
      "execution_count": 15,
      "metadata": {
        "colab": {
          "base_uri": "https://localhost:8080/"
        },
        "id": "lAZAC4DlRqK-",
        "outputId": "633ac20a-790b-416f-9c0f-50f2296fcdcc"
      },
      "outputs": [
        {
          "output_type": "stream",
          "name": "stdout",
          "text": [
            "(11629, 100)\n"
          ]
        }
      ],
      "source": [
        "print(X_new.shape)"
      ]
    },
    {
      "cell_type": "markdown",
      "metadata": {
        "id": "4D8jEEjDRqK-"
      },
      "source": [
        "#### Split the Dataset"
      ]
    },
    {
      "cell_type": "code",
      "execution_count": 16,
      "metadata": {
        "colab": {
          "base_uri": "https://localhost:8080/"
        },
        "id": "XY-IUnAiRqK-",
        "outputId": "c97af9ca-b40d-434e-aede-6db6909cfa4f"
      },
      "outputs": [
        {
          "output_type": "stream",
          "name": "stdout",
          "text": [
            "(8140, 100)\n",
            "(3489, 100)\n"
          ]
        }
      ],
      "source": [
        "X_train, X_test, y_train, y_test = train_test_split(X_new, merged_df['class'], test_size=0.3, random_state=1)\n",
        "print(X_train.shape)\n",
        "print(X_test.shape)"
      ]
    },
    {
      "cell_type": "markdown",
      "metadata": {
        "id": "EdGClI0hRqK_"
      },
      "source": [
        "#### Training Model with Parameters Tuning"
      ]
    },
    {
      "cell_type": "code",
      "execution_count": 17,
      "metadata": {
        "colab": {
          "base_uri": "https://localhost:8080/"
        },
        "id": "1-8aS3SwRqK_",
        "outputId": "39e1b72c-4fc0-4ae1-bd2c-86ba5376ff2f"
      },
      "outputs": [
        {
          "output_type": "stream",
          "name": "stdout",
          "text": [
            "[0.90540541 0.88943489 0.89066339 0.8992629  0.8955774  0.89189189\n",
            " 0.88206388 0.9004914  0.88083538 0.89189189]\n"
          ]
        },
        {
          "output_type": "execute_result",
          "data": {
            "text/plain": [
              "0.886787044998567"
            ]
          },
          "metadata": {},
          "execution_count": 17
        }
      ],
      "source": [
        "hyper_parameters = {'kernel':('sigmoid', 'rbf'), 'C':[1, 10, 20]}\n",
        "svc_model = svm.SVC()\n",
        "clf = GridSearchCV(svc_model, hyper_parameters)\n",
        "clf.fit(X_train, y_train)\n",
        "scores = cross_val_score(clf, X_train, y_train, cv=10)\n",
        "print(scores)\n",
        "y_pred = clf.predict(X_test)\n",
        "accuracy_score(y_test,y_pred)"
      ]
    },
    {
      "cell_type": "markdown",
      "metadata": {
        "id": "f1nPcuK8RqK_"
      },
      "source": [
        "# Studio Activity 5: Dimensionality reduction"
      ]
    },
    {
      "cell_type": "markdown",
      "metadata": {
        "id": "rbeX9emJRqK_"
      },
      "source": [
        "#### Import Dependencies"
      ]
    },
    {
      "cell_type": "code",
      "execution_count": 18,
      "metadata": {
        "id": "sETR_7ApRqK_"
      },
      "outputs": [],
      "source": [
        "from sklearn.decomposition import PCA"
      ]
    },
    {
      "cell_type": "markdown",
      "metadata": {
        "id": "PTc6IIyaRqK_"
      },
      "source": [
        "#### Reduce dimension on original dataset"
      ]
    },
    {
      "cell_type": "code",
      "execution_count": 19,
      "metadata": {
        "id": "o-Y2QTuyRqK_"
      },
      "outputs": [],
      "source": [
        "pca = PCA(n_components=10).fit(merged_df.drop(columns=['class']))"
      ]
    },
    {
      "cell_type": "code",
      "execution_count": 20,
      "metadata": {
        "colab": {
          "base_uri": "https://localhost:8080/"
        },
        "id": "jFjvbU7YRqLI",
        "outputId": "a26cc78e-8f51-4675-d981-12bb2517e651"
      },
      "outputs": [
        {
          "output_type": "stream",
          "name": "stdout",
          "text": [
            "(11629, 10)\n"
          ]
        }
      ],
      "source": [
        "X_train_pca = pca.fit_transform(merged_df.drop(columns=['class']))\n",
        "print(X_train_pca.shape)"
      ]
    },
    {
      "cell_type": "markdown",
      "metadata": {
        "id": "I0JRGOGwRqLI"
      },
      "source": [
        "#### Split Dataset"
      ]
    },
    {
      "cell_type": "code",
      "execution_count": 21,
      "metadata": {
        "colab": {
          "base_uri": "https://localhost:8080/"
        },
        "id": "pd3QbCVURqLI",
        "outputId": "fa7aaab1-d218-4582-ce73-a038eb1acf00"
      },
      "outputs": [
        {
          "output_type": "stream",
          "name": "stdout",
          "text": [
            "(8140, 10)\n",
            "(8140,)\n",
            "(3489, 10)\n",
            "(3489,)\n"
          ]
        }
      ],
      "source": [
        "X_train, X_test, y_train, y_test = train_test_split(X_train_pca, merged_df['class'], test_size=0.3, random_state=1)\n",
        "print(X_train.shape)\n",
        "print(y_train.shape)\n",
        "print(X_test.shape)\n",
        "print(y_test.shape)"
      ]
    },
    {
      "cell_type": "markdown",
      "metadata": {
        "id": "f_ZgoqIpRqLI"
      },
      "source": [
        "#### Train the model"
      ]
    },
    {
      "cell_type": "code",
      "execution_count": 22,
      "metadata": {
        "colab": {
          "base_uri": "https://localhost:8080/"
        },
        "id": "0beAKCL8RqLI",
        "outputId": "b166883f-7375-488b-f435-87dc573236b9"
      },
      "outputs": [
        {
          "output_type": "stream",
          "name": "stdout",
          "text": [
            "[0.9017199  0.8955774  0.8968059  0.90786241 0.9041769  0.88820639\n",
            " 0.89312039 0.90540541 0.88452088 0.89434889]\n"
          ]
        },
        {
          "output_type": "execute_result",
          "data": {
            "text/plain": [
              "0.8933791917454859"
            ]
          },
          "metadata": {},
          "execution_count": 22
        }
      ],
      "source": [
        "hyper_parameters = {'kernel':('sigmoid', 'rbf'), 'C':[1, 10, 20]}\n",
        "svc_model = svm.SVC()\n",
        "clf = GridSearchCV(svc_model, hyper_parameters)\n",
        "clf.fit(X_train, y_train)\n",
        "scores = cross_val_score(clf, X_train, y_train, cv=10)\n",
        "print(scores)\n",
        "y_pred = clf.predict(X_test)\n",
        "accuracy_score(y_test,y_pred)"
      ]
    },
    {
      "cell_type": "markdown",
      "metadata": {
        "id": "mXpY7UAURqLI"
      },
      "source": [
        "# Studio Activity 6: Prepare a summary table\n",
        "#### Reported in the Portfolio Week 3"
      ]
    },
    {
      "cell_type": "markdown",
      "metadata": {
        "id": "bIm7D4SSRqLI"
      },
      "source": [
        "# Studio Activity 7: Other classifiers"
      ]
    },
    {
      "cell_type": "code",
      "execution_count": 23,
      "metadata": {
        "id": "9YlYEa8WRqLI"
      },
      "outputs": [],
      "source": [
        "X_train, X_test, y_train, y_test = train_test_split(merged_df.drop(columns=['class']), merged_df['class'], test_size=0.3, random_state=1)"
      ]
    },
    {
      "cell_type": "markdown",
      "metadata": {
        "id": "Fb4xU6k_RqLI"
      },
      "source": [
        "## SGD"
      ]
    },
    {
      "cell_type": "code",
      "execution_count": 24,
      "metadata": {
        "id": "vBY0-AWZRqLI"
      },
      "outputs": [],
      "source": [
        "from sklearn.linear_model import SGDClassifier"
      ]
    },
    {
      "cell_type": "markdown",
      "metadata": {
        "id": "agjgpQemRqLI"
      },
      "source": [
        "#### Training without Cross validation"
      ]
    },
    {
      "cell_type": "code",
      "execution_count": 25,
      "metadata": {
        "colab": {
          "base_uri": "https://localhost:8080/"
        },
        "id": "OuZxbk25RqLI",
        "outputId": "ced15ca1-d253-4185-ecc3-ba2670c73e3a"
      },
      "outputs": [
        {
          "output_type": "stream",
          "name": "stderr",
          "text": [
            "/usr/local/lib/python3.10/dist-packages/sklearn/linear_model/_stochastic_gradient.py:744: ConvergenceWarning: Maximum number of iteration reached before convergence. Consider increasing max_iter to improve the fit.\n",
            "  warnings.warn(\n"
          ]
        },
        {
          "output_type": "execute_result",
          "data": {
            "text/plain": [
              "0.8661507595299512"
            ]
          },
          "metadata": {},
          "execution_count": 25
        }
      ],
      "source": [
        "clf = SGDClassifier(loss=\"hinge\", max_iter=5)\n",
        "clf.fit(X_train, y_train)\n",
        "y_pred = clf.predict(X_test)\n",
        "accuracy_score(y_test,y_pred)"
      ]
    },
    {
      "cell_type": "markdown",
      "metadata": {
        "id": "D-8tJKAbRqLI"
      },
      "source": [
        "#### Training with Cross validation"
      ]
    },
    {
      "cell_type": "code",
      "execution_count": 26,
      "metadata": {
        "colab": {
          "base_uri": "https://localhost:8080/"
        },
        "id": "p5zCmCu0RqLI",
        "outputId": "e8b96842-86b2-4288-84ac-2666f7694804"
      },
      "outputs": [
        {
          "output_type": "stream",
          "name": "stdout",
          "text": [
            "[0.8992629  0.89189189 0.8955774  0.8992629  0.8968059  0.88820639\n",
            " 0.88943489 0.9004914  0.87714988 0.89066339]\n"
          ]
        },
        {
          "output_type": "execute_result",
          "data": {
            "text/plain": [
              "0.8882201203783319"
            ]
          },
          "metadata": {},
          "execution_count": 26
        }
      ],
      "source": [
        "clf = svm.SVC()\n",
        "clf.fit(X_train, y_train)\n",
        "scores = cross_val_score(clf, X_train, y_train, cv=10)\n",
        "print(scores)\n",
        "\n",
        "y_pred = clf.predict(X_test)\n",
        "accuracy_score(y_test,y_pred)"
      ]
    },
    {
      "cell_type": "markdown",
      "metadata": {
        "id": "x0xYp0FyRqLI"
      },
      "source": [
        "## Random Forest"
      ]
    },
    {
      "cell_type": "code",
      "execution_count": 27,
      "metadata": {
        "id": "HGzLHKLRRqLJ"
      },
      "outputs": [],
      "source": [
        "from sklearn.ensemble import RandomForestClassifier"
      ]
    },
    {
      "cell_type": "markdown",
      "metadata": {
        "id": "U-C9HH5ERqLJ"
      },
      "source": [
        "#### Training without Cross validation"
      ]
    },
    {
      "cell_type": "code",
      "execution_count": 28,
      "metadata": {
        "colab": {
          "base_uri": "https://localhost:8080/"
        },
        "id": "bbo_jxtuRqLJ",
        "outputId": "1f7b1dfa-190d-4228-92bb-7b04d43fbbdb"
      },
      "outputs": [
        {
          "output_type": "execute_result",
          "data": {
            "text/plain": [
              "0.9229005445686443"
            ]
          },
          "metadata": {},
          "execution_count": 28
        }
      ],
      "source": [
        "clf = RandomForestClassifier()\n",
        "clf.fit(X_train, y_train)\n",
        "y_pred = clf.predict(X_test)\n",
        "accuracy_score(y_test,y_pred)"
      ]
    },
    {
      "cell_type": "markdown",
      "metadata": {
        "id": "JbVOhObzRqLJ"
      },
      "source": [
        "#### Training with Cross validation"
      ]
    },
    {
      "cell_type": "code",
      "execution_count": 29,
      "metadata": {
        "colab": {
          "base_uri": "https://localhost:8080/"
        },
        "id": "Y-bMYw8xRqLJ",
        "outputId": "2a50590b-2a71-411d-b542-ad621c345577"
      },
      "outputs": [
        {
          "output_type": "stream",
          "name": "stdout",
          "text": [
            "[0.92751843 0.91277641 0.91891892 0.92997543 0.92506143 0.91646192\n",
            " 0.91400491 0.91891892 0.91891892 0.91523342]\n"
          ]
        },
        {
          "output_type": "execute_result",
          "data": {
            "text/plain": [
              "0.9231871596445973"
            ]
          },
          "metadata": {},
          "execution_count": 29
        }
      ],
      "source": [
        "clf = RandomForestClassifier()\n",
        "clf.fit(X_train, y_train)\n",
        "scores = cross_val_score(clf, X_train, y_train, cv=10)\n",
        "print(scores)\n",
        "\n",
        "y_pred = clf.predict(X_test)\n",
        "accuracy_score(y_test,y_pred)"
      ]
    },
    {
      "cell_type": "markdown",
      "metadata": {
        "id": "7qStGmMnRqLJ"
      },
      "source": [
        "## Multi-Layer Perceptron (MLP)"
      ]
    },
    {
      "cell_type": "code",
      "execution_count": 30,
      "metadata": {
        "id": "CFO3c05NRqLJ"
      },
      "outputs": [],
      "source": [
        "from sklearn.neural_network import MLPClassifier"
      ]
    },
    {
      "cell_type": "markdown",
      "metadata": {
        "id": "SJK9RXCKRqLJ"
      },
      "source": [
        "#### Training without Cross validation"
      ]
    },
    {
      "cell_type": "code",
      "execution_count": 31,
      "metadata": {
        "colab": {
          "base_uri": "https://localhost:8080/"
        },
        "id": "CCiW2EvrRqLJ",
        "outputId": "054f8751-0e27-4c56-89eb-031fa68ff609"
      },
      "outputs": [
        {
          "output_type": "execute_result",
          "data": {
            "text/plain": [
              "0.7449125824018343"
            ]
          },
          "metadata": {},
          "execution_count": 31
        }
      ],
      "source": [
        "clf = MLPClassifier()\n",
        "clf.fit(X_train, y_train)\n",
        "y_pred = clf.predict(X_test)\n",
        "accuracy_score(y_test,y_pred)"
      ]
    },
    {
      "cell_type": "markdown",
      "metadata": {
        "id": "yI2u-TYTRqLJ"
      },
      "source": [
        "#### Training with Cross validation"
      ]
    },
    {
      "cell_type": "code",
      "execution_count": 32,
      "metadata": {
        "colab": {
          "base_uri": "https://localhost:8080/"
        },
        "id": "QkUIlu1iRqLJ",
        "outputId": "774cddfa-c03d-411a-a249-f3659705da64"
      },
      "outputs": [
        {
          "output_type": "stream",
          "name": "stdout",
          "text": [
            "[0.87592138 0.87837838 0.88697789 0.82432432 0.84520885 0.86732187\n",
            " 0.89066339 0.83169533 0.88329238 0.86240786]\n"
          ]
        },
        {
          "output_type": "execute_result",
          "data": {
            "text/plain": [
              "0.8865004299226139"
            ]
          },
          "metadata": {},
          "execution_count": 32
        }
      ],
      "source": [
        "clf = MLPClassifier()\n",
        "clf.fit(X_train, y_train)\n",
        "scores = cross_val_score(clf, X_train, y_train, cv=10)\n",
        "print(scores)\n",
        "\n",
        "y_pred = clf.predict(X_test)\n",
        "accuracy_score(y_test,y_pred)"
      ]
    }
  ],
  "metadata": {
    "kernelspec": {
      "display_name": "Python 3",
      "name": "python3"
    },
    "language_info": {
      "codemirror_mode": {
        "name": "ipython",
        "version": 3
      },
      "file_extension": ".py",
      "mimetype": "text/x-python",
      "name": "python",
      "nbconvert_exporter": "python",
      "pygments_lexer": "ipython3",
      "version": "3.10.9"
    },
    "colab": {
      "provenance": [],
      "gpuType": "V28"
    },
    "accelerator": "TPU"
  },
  "nbformat": 4,
  "nbformat_minor": 0
}